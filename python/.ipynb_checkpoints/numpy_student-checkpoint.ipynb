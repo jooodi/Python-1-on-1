{
 "cells": [
  {
   "cell_type": "markdown",
   "metadata": {
    "collapsed": true
   },
   "source": [
    "<img src='../images/wcd_logo.png' width='50%'>\n",
    "-------------\n",
    "\n",
    "<center> <h1> Python for Data Science </h1> </center>\n",
    "<br>\n",
    "<center><h2> Lab 1: Numpy for Numeric Computation </h2> </center>\n",
    "<center><img src='../images/numpy_logo.png' width='20%'> </center>\n",
    "\n",
    "<br>\n",
    "<center align=\"left\"> Developed by: </center>\n",
    "<center align=\"left\"> WeCloudData Academy </center>\n",
    "\n",
    "\n",
    "\n",
    "----------\n",
    "\n",
    "\n",
    "Numpy is the core library for scientific computing in Python. It provides a high-performance **multidimensional array** object, and tools for working with these arrays. If you are already familiar with MATLAB, you might find this lab useful to get started with Numpy."
   ]
  },
  {
   "cell_type": "markdown",
   "metadata": {},
   "source": [
    "### Reference\n",
    " * Numpy Reference http://docs.scipy.org/doc/numpy-dev/reference/\n",
    " \n",
    "> While the Python language is an excellent tool for general-purpose programming, with a highly readable syntax, rich and powerful data types (**`strings, lists, sets, dictionaries, arbitrary length integers, etc`**) and a very comprehensive standard library, it was not designed specifically for mathematical and scientific computing.  ***Neither the language nor its standard library have facilities for the efficient representation of multidimensional datasets, tools for linear algebra and general matrix manipulations *** (an essential building block of virtually all technical computing), nor any data visualization facilities.\n",
    "\n",
    "> In particular, Python lists are very flexible containers that can be nested arbitrarily deep and which can hold any Python object in them, but they are poorly suited to represent efficiently common mathematical constructs like vectors and matrices.  In contrast, much of our modern heritage of scientific computing has been built on top of libraries written in the Fortran language, which has native support for vectors and matrices as well as a library of mathematical functions that can efficiently operate on entire arrays at once.\n",
    "\n",
    "\n",
    "### Table of Contents\n",
    "* 1 - Why Numpy? \n",
    "* 2 - Numpy Array Objects\n",
    "  * 2.1 Array Objects\n",
    "  * 2.2 Array Creation (Instantiation)\n",
    "  * 2.3 Array Attributes\n",
    "  * 2.4 Manipulating Arrays - Slicing, Indexing, Iteration\n",
    "  * 2.5 Array Operations - Universal Function \"unfuc\"\n",
    "  * 2.6 Basic Array Methods\n",
    "* 3 - Numpy Routines\n",
    "  * 3.1 Array Manipulation\n",
    "  * 3.2 Linear Algebra\n",
    "  * 3.3 Math\n",
    "  * 3.4 Statistics"
   ]
  },
  {
   "cell_type": "markdown",
   "metadata": {},
   "source": [
    "# $\\Delta$ 1. Why Numpy? "
   ]
  },
  {
   "cell_type": "markdown",
   "metadata": {},
   "source": [
    "### Numpy Array vs. Python List\n",
    "> - (**memory efficenciency**) Numpy's arrays are more compact than lists \n",
    "- (**convenience**) Array is more convenient. It allows you to work with vector and matrix operations more efficiently \n",
    "- (**speed**) Numpy array operation is much faster than list\n",
    "- (**functionality**) Numpy array has a lot of built-in functions to work with fast searching, basic stats, linear algebra, histogram etc."
   ]
  },
  {
   "cell_type": "markdown",
   "metadata": {},
   "source": [
    "---"
   ]
  },
  {
   "cell_type": "markdown",
   "metadata": {},
   "source": [
    "# $\\Delta$ 2. Numpy Arrays and Attributes\n",
    "\n",
    "### N-dimensional Array Objects\n",
    ">* The primary building block of the numpy module is the class \"ndarray\" - a powerful array \n",
    "* A ndarray object represents a multidimensional, **homogeneous** array of **fixed-sized** items. An associated date-type object describes the format of each element in the array. "
   ]
  },
  {
   "cell_type": "markdown",
   "metadata": {},
   "source": [
    "## 2.1 Creating a numpy array (ndarray)"
   ]
  },
  {
   "cell_type": "markdown",
   "metadata": {},
   "source": [
    "A numpy array is a grid of values, all of the same type, and is indexed by a tuple of nonnegative integers. The number of dimensions is the `rank` of the array; the `shape` of an array is a tuple of integers giving the size of the array along each dimension.\n",
    "\n",
    "<img src='../images/arrays.png' width='50%'>"
   ]
  },
  {
   "cell_type": "markdown",
   "metadata": {},
   "source": [
    "### Rank-1 Array (1-D Array)"
   ]
  },
  {
   "cell_type": "code",
   "execution_count": 3,
   "metadata": {},
   "outputs": [
    {
     "name": "stdout",
     "output_type": "stream",
     "text": [
      "<class 'numpy.ndarray'>\n",
      "(3,)\n",
      "1 2 3\n",
      "[5 2 3]\n"
     ]
    }
   ],
   "source": [
    "import numpy as np\n",
    "\n",
    "a = np.array([1, 2, 3])  # Create a rank 1 array\n",
    "print (type(a))           # Prints \"<type 'numpy.ndarray'>\"\n",
    "print (a.shape)            # Prints \"(3,)\"\n",
    "print (a[0], a[1], a[2])   # Prints \"1 2 3\"\n",
    "\n",
    "a[0] = 5                 # Change an element of the array\n",
    "print (a)                  # Prints \"[5, 2, 3]\""
   ]
  },
  {
   "cell_type": "markdown",
   "metadata": {},
   "source": [
    "### Rank-2 Array (2-D Array)\n",
    "<img src='../images/2darrayaxes.png' width='20%' align='left'>\n"
   ]
  },
  {
   "cell_type": "code",
   "execution_count": 4,
   "metadata": {},
   "outputs": [
    {
     "name": "stdout",
     "output_type": "stream",
     "text": [
      "[[1 2 3]\n",
      " [4 5 6]]\n",
      "(2, 3)\n",
      "1 2 4\n"
     ]
    }
   ],
   "source": [
    "b = np.array([[1,2,3],[4,5,6]])     # Create a rank 2 array\n",
    "print (b)\n",
    "print (b.shape)                     # Prints \"(2, 3)\"\n",
    "print (b[0, 0], b[0, 1], b[1, 0] )  # Prints \"1 2 4\""
   ]
  },
  {
   "cell_type": "markdown",
   "metadata": {},
   "source": [
    "### Rank-3 Array (3-D Array)\n",
    "<img src='../images/3darrayaxes.png' width='30%' align='left'>\n"
   ]
  },
  {
   "cell_type": "code",
   "execution_count": 8,
   "metadata": {},
   "outputs": [],
   "source": [
    "c=np.array([[[ 0,  1,  2,  3], [ 4,  5,  6,  7], [ 8,  9, 10, 11]], \n",
    "          [[12, 13, 14, 15], [16, 17, 18, 19], [20, 21, 22, 23]]])"
   ]
  },
  {
   "cell_type": "code",
   "execution_count": 10,
   "metadata": {},
   "outputs": [
    {
     "name": "stdout",
     "output_type": "stream",
     "text": [
      "(2, 3, 4)\n"
     ]
    }
   ],
   "source": [
    "print(c.shape)"
   ]
  },
  {
   "cell_type": "markdown",
   "metadata": {},
   "source": [
    "### Other Functions to Create Arrays"
   ]
  },
  {
   "cell_type": "code",
   "execution_count": 11,
   "metadata": {},
   "outputs": [
    {
     "data": {
      "text/plain": [
       "array([[1., 1., 1., 1.],\n",
       "       [1., 1., 1., 1.],\n",
       "       [1., 1., 1., 1.]])"
      ]
     },
     "execution_count": 11,
     "metadata": {},
     "output_type": "execute_result"
    }
   ],
   "source": [
    "# Create an array of ones\n",
    "np.ones((3,4))"
   ]
  },
  {
   "cell_type": "code",
   "execution_count": 12,
   "metadata": {},
   "outputs": [
    {
     "data": {
      "text/plain": [
       "array([[[0, 0, 0, 0],\n",
       "        [0, 0, 0, 0],\n",
       "        [0, 0, 0, 0]],\n",
       "\n",
       "       [[0, 0, 0, 0],\n",
       "        [0, 0, 0, 0],\n",
       "        [0, 0, 0, 0]]], dtype=int16)"
      ]
     },
     "execution_count": 12,
     "metadata": {},
     "output_type": "execute_result"
    }
   ],
   "source": [
    "# Create an array of zeros\n",
    "np.zeros((2,3,4),dtype=np.int16)"
   ]
  },
  {
   "cell_type": "markdown",
   "metadata": {},
   "source": [
    "> Each type of integer has a different range of storage capacity\n",
    "  * Int16 -- (-32,768 to +32,767)\n",
    "  * Int32 -- (-2,147,483,648 to +2,147,483,647)\n",
    "  * Int64 -- (-9,223,372,036,854,775,808 to +9,223,372,036,854,775,807)"
   ]
  },
  {
   "cell_type": "code",
   "execution_count": 15,
   "metadata": {},
   "outputs": [
    {
     "name": "stdout",
     "output_type": "stream",
     "text": [
      "[[0.71188768 0.77488977]\n",
      " [0.62029615 0.02222538]]\n",
      "-----\n",
      "[-1.48596596  1.6948051  -0.84034971 -0.32871307  0.37377763]\n",
      "-----\n",
      "[3 7 8 3 2]\n"
     ]
    }
   ],
   "source": [
    "# Create random matrix/arrays\n",
    "# 1. Return random floats  in the half-open interval [0.0, 1.0), with 2 by 2\n",
    "print(np.random.random((2,2))) \n",
    "print(\"-\"*5)\n",
    "\n",
    "# 2. Return a sample (or samples) from the “standard normal” distribution.s\n",
    "# The standard normal distribution is a normal distribution with a mean of 0 and a standard deviation of 1.\n",
    "print(np.random.randn(5))\n",
    "print(\"-\"*5)\n",
    "\n",
    "# 3. Return random integer from low to upper bound with size.\n",
    "print(np.random.randint(low=0, high=10, size=5))"
   ]
  },
  {
   "cell_type": "code",
   "execution_count": 16,
   "metadata": {},
   "outputs": [
    {
     "data": {
      "text/plain": [
       "array([[0., 0.],\n",
       "       [0., 0.],\n",
       "       [0., 0.]])"
      ]
     },
     "execution_count": 16,
     "metadata": {},
     "output_type": "execute_result"
    }
   ],
   "source": [
    "# Create an empty array\n",
    "np.empty((3,2))"
   ]
  },
  {
   "cell_type": "code",
   "execution_count": 17,
   "metadata": {},
   "outputs": [
    {
     "data": {
      "text/plain": [
       "array([[7, 7],\n",
       "       [7, 7]])"
      ]
     },
     "execution_count": 17,
     "metadata": {},
     "output_type": "execute_result"
    }
   ],
   "source": [
    "# Create a full array\n",
    "np.full((2,2),7)"
   ]
  },
  {
   "cell_type": "code",
   "execution_count": 22,
   "metadata": {},
   "outputs": [
    {
     "data": {
      "text/plain": [
       "array([10, 15, 20])"
      ]
     },
     "execution_count": 22,
     "metadata": {},
     "output_type": "execute_result"
    }
   ],
   "source": [
    "# Create an array of evenly-spaced values with step size\n",
    "np.arange(10,25,5)"
   ]
  },
  {
   "cell_type": "code",
   "execution_count": 24,
   "metadata": {},
   "outputs": [
    {
     "data": {
      "text/plain": [
       "array([10.  , 13.75, 17.5 , 21.25, 25.  ])"
      ]
     },
     "execution_count": 24,
     "metadata": {},
     "output_type": "execute_result"
    }
   ],
   "source": [
    "# Create an array of evenly-spaced values with number of samples\n",
    "np.linspace(10,25,5)"
   ]
  },
  {
   "cell_type": "code",
   "execution_count": 25,
   "metadata": {},
   "outputs": [
    {
     "data": {
      "text/plain": [
       "array([[1., 0., 0., 0.],\n",
       "       [0., 1., 0., 0.],\n",
       "       [0., 0., 1., 0.],\n",
       "       [0., 0., 0., 1.]])"
      ]
     },
     "execution_count": 25,
     "metadata": {},
     "output_type": "execute_result"
    }
   ],
   "source": [
    "# Create an identity matrices\n",
    "np.eye(4)"
   ]
  },
  {
   "cell_type": "markdown",
   "metadata": {},
   "source": [
    "## 2.2 Inspecting your arrays\n",
    "\n",
    "The following provide basic information about the size, shape and data in the array:"
   ]
  },
  {
   "cell_type": "code",
   "execution_count": 28,
   "metadata": {},
   "outputs": [
    {
     "name": "stdout",
     "output_type": "stream",
     "text": [
      "[0 1 2 3 4 5 6 7]\n",
      "     \n",
      "[[0 1 2 3]\n",
      " [4 5 6 7]]\n"
     ]
    }
   ],
   "source": [
    "## make an array, then reshape the size\n",
    "arr1 = np.arange(8)\n",
    "arr2 = np.arange(8).reshape(2,4)\n",
    "print(arr1)\n",
    "print(\" \"*5)\n",
    "print(arr2)"
   ]
  },
  {
   "cell_type": "code",
   "execution_count": 30,
   "metadata": {
    "scrolled": true
   },
   "outputs": [
    {
     "name": "stdout",
     "output_type": "stream",
     "text": [
      "Data type                : int64\n",
      "Total number of elements : 8\n",
      "Number of dimensions     : 2\n",
      "Shape (dimensionality)   : (2, 4)\n",
      "Memory used (in bytes)   : 64\n",
      "8\n"
     ]
    }
   ],
   "source": [
    "## display basic info of an array\n",
    "print ('Data type                :', arr2.dtype)\n",
    "print ('Total number of elements :', arr2.size)\n",
    "print ('Number of dimensions     :', arr2.ndim)\n",
    "print ('Shape (dimensionality)   :', arr2.shape)\n",
    "print ('Memory used (in bytes)   :', arr2.nbytes)"
   ]
  },
  {
   "cell_type": "markdown",
   "metadata": {},
   "source": [
    "----\n",
    "## Exercise:\n",
    "\n",
    "#### Problem 1: Create an array from standard normal distribution with size 20 and sort it (by descending order)."
   ]
  },
  {
   "cell_type": "code",
   "execution_count": 63,
   "metadata": {},
   "outputs": [
    {
     "name": "stdout",
     "output_type": "stream",
     "text": [
      "[3.216633564560564, 1.5210978940016695, 1.281388067465985, 1.1472953650403217, 1.0137382204785645, 0.8285305395134703, 0.7079616758452163, 0.3692023263560513, 0.2789525017751559, -0.033506178009087687, -0.08974011892354057, -0.0900526700144249, -0.25985808217328826, -0.4969947585882599, -0.7011280133868008, -0.8528049881945741, -1.6171944137193124, -1.918431433837055, -2.0358770637012693, -2.0652645788975628]\n"
     ]
    }
   ],
   "source": [
    "######please insert your code here######\n",
    "\n",
    "\n",
    "\n",
    "\n",
    "\n"
   ]
  },
  {
   "cell_type": "markdown",
   "metadata": {},
   "source": [
    "#### Problem 2: Create a 5*5 array with 6 on the border and 0 inside.\n",
    "> Hint:output is expected to be:  \n",
    "  \n",
    ">  [[ 6.  6.  6.  6.  6.]  \n",
    ">   [ 6.  0.  0.  0.  6.]  \n",
    ">   [ 6.  0.  0.  0.  6.]  \n",
    ">   [ 6.  0.  0.  0.  6.]  \n",
    ">   [ 6.  6.  6.  6.  6.]])  "
   ]
  },
  {
   "cell_type": "code",
   "execution_count": 64,
   "metadata": {},
   "outputs": [
    {
     "name": "stdout",
     "output_type": "stream",
     "text": [
      "[[6. 6. 6. 6. 6.]\n",
      " [6. 0. 0. 0. 6.]\n",
      " [6. 0. 0. 0. 6.]\n",
      " [6. 0. 0. 0. 6.]\n",
      " [6. 6. 6. 6. 6.]]\n"
     ]
    }
   ],
   "source": [
    "######please insert your code here######\n",
    "\n",
    "\n",
    "\n",
    "\n",
    "\n"
   ]
  },
  {
   "cell_type": "markdown",
   "metadata": {},
   "source": [
    "-----\n",
    "## 2.3 Array Data Types\n"
   ]
  },
  {
   "cell_type": "markdown",
   "metadata": {},
   "source": [
    "> Arrays can hold (almost) any type of data, as long as ** each individual element is identical** (i.e., requires the same amount of memory). The format of the ndarray can be specified with the \"dtype\" attribute. Individual elements may be \"named\" in a structured array.\n",
    "\n",
    "\n",
    "\n",
    "> For more on numpy data types, refer to [https://docs.scipy.org/doc/numpy/user/basics.types.html](https://docs.scipy.org/doc/numpy/user/basics.types.html)\n",
    "\n",
    "\n",
    "### Common Data Types\n",
    "#### Integers:\n",
    "int8, int16, int32, int64\t \n",
    "\n",
    "#### Unsigned integers:\n",
    "uint8, uint16,  uint32, uint64\t \n",
    "\n",
    "#### Floating-point numbers:\n",
    "float16, float32, float64, float96, float128\n",
    "\n",
    "#### Objects\n",
    "object_\tany Python object\t'O'\n",
    "\n"
   ]
  },
  {
   "cell_type": "code",
   "execution_count": 31,
   "metadata": {},
   "outputs": [
    {
     "name": "stdout",
     "output_type": "stream",
     "text": [
      "zero:  [[0 0 0]]\n",
      "object type is:  <class 'numpy.ndarray'>\n",
      "Array zero's data type is:  int32\n"
     ]
    }
   ],
   "source": [
    "# type of an array element\n",
    "zero = np.zeros((1,3), dtype='int32')\n",
    "\n",
    "print (\"zero: \", zero)\n",
    "print (\"object type is: \", type(zero))\n",
    "print (\"Array zero's data type is: \", zero.dtype)"
   ]
  },
  {
   "cell_type": "code",
   "execution_count": 36,
   "metadata": {},
   "outputs": [],
   "source": [
    "# short dtype notations\n",
    "dt1 = np.dtype(\"int32\")\n",
    "dt2 = np.dtype(\"i\")\n",
    "\n",
    "dt3 = np.dtype(\"float32\")\n",
    "dt4 = np.dtype(\"f\")\n",
    "\n",
    "dt5 = np.dtype(\"object\")\n",
    "dt6 = np.dtype(\"O\")"
   ]
  },
  {
   "cell_type": "code",
   "execution_count": 40,
   "metadata": {},
   "outputs": [
    {
     "data": {
      "text/plain": [
       "dtype('O')"
      ]
     },
     "execution_count": 40,
     "metadata": {},
     "output_type": "execute_result"
    }
   ],
   "source": [
    "dt5"
   ]
  },
  {
   "cell_type": "markdown",
   "metadata": {},
   "source": [
    "---\n",
    "# $\\Delta$ 3. Array Manipulation: Indexing, Slicing, Iteration\n",
    "\n",
    "> * ndarray objects can be indexed, sliced, and iterated over much like **lists**"
   ]
  },
  {
   "cell_type": "markdown",
   "metadata": {},
   "source": [
    "## 3.1 Array Indexing & Slicing\n",
    "Assigning to and accessing the elements of an array is similar to other sequential data types of Python, i.e. lists and tuples. We have also many options to indexing, which makes indexing in Numpy very powerful and similar to core Python."
   ]
  },
  {
   "cell_type": "markdown",
   "metadata": {},
   "source": [
    "### Create a 4x3 numpy array\n",
    "\n",
    "<img src='../images/array_3x4.png' width='20%' align='left'>"
   ]
  },
  {
   "cell_type": "code",
   "execution_count": 49,
   "metadata": {},
   "outputs": [
    {
     "name": "stdout",
     "output_type": "stream",
     "text": [
      "[[ 1  2  3  4]\n",
      " [ 5  6  7  8]\n",
      " [ 9 10 11 12]]\n",
      "\n",
      "(3, 4)\n"
     ]
    }
   ],
   "source": [
    "import numpy as np\n",
    "\n",
    "a = np.array([[1,2,3,4], [5,6,7,8], [9,10,11,12]])\n",
    "\n",
    "print(a)\n",
    "print()\n",
    "print(a.shape)"
   ]
  },
  {
   "cell_type": "markdown",
   "metadata": {},
   "source": [
    "### Slicing the array\n",
    "\n",
    "<img src='../images/array_3x4_1.png' width='20%' align='left'>"
   ]
  },
  {
   "cell_type": "code",
   "execution_count": null,
   "metadata": {},
   "outputs": [],
   "source": [
    "# Use slicing to pull out the subarray consisting of the first 2 rows\n",
    "# and columns 1 and 2; b is the following array of shape (2, 2):\n",
    "b = a[:2, 1:3]\n",
    "b"
   ]
  },
  {
   "cell_type": "markdown",
   "metadata": {},
   "source": [
    "### Modifying an array\n",
    "> Note: A slice of an array is a view into the same data, so modifying it will modify the original array.\n",
    "\n",
    "<img src='../images/array_3x4_2.png' width='20%' align='left'>"
   ]
  },
  {
   "cell_type": "code",
   "execution_count": 50,
   "metadata": {},
   "outputs": [
    {
     "name": "stdout",
     "output_type": "stream",
     "text": [
      "[[ 1  2  3  4]\n",
      " [ 5  6  7  8]\n",
      " [ 9 10 11 12]]\n",
      "     \n",
      "[[ 1 77  3  4]\n",
      " [ 5  6  7  8]\n",
      " [ 9 10 11 12]]\n"
     ]
    }
   ],
   "source": [
    "print (a)  \n",
    "a[0, 1] = 77    # value at b[0, 1] gets updated from 2 to 77\n",
    "print (\" \"*5)\n",
    "print (a) "
   ]
  },
  {
   "cell_type": "markdown",
   "metadata": {},
   "source": [
    "### Integer Array Indexing\n",
    "\n",
    "<img src='../images/array_3x4_3.png' width='20%' align='left'>"
   ]
  },
  {
   "cell_type": "code",
   "execution_count": 53,
   "metadata": {},
   "outputs": [
    {
     "name": "stdout",
     "output_type": "stream",
     "text": [
      "[[ 1  2  3  4]\n",
      " [ 5  6  7  8]\n",
      " [ 9 10 11 12]]\n",
      " \n",
      "[1 7 9]\n",
      " \n",
      "[1 7 9]\n"
     ]
    }
   ],
   "source": [
    "a = np.array([[1,2,3,4], [5,6,7,8], [9,10,11,12]])\n",
    "print(a)\n",
    "print(\" \")\n",
    "\n",
    "# An example of integer array indexing.\n",
    "# The returned array will have shape (3,) and \n",
    "print (a[[0, 1, 2], [0, 2, 0]])  # Prints \"[1 7 9]\"\n",
    "print(\" \")\n",
    "\n",
    "# The above example of integer array indexing is equivalent to this:\n",
    "print (np.array([a[0, 0], a[1, 2], a[2, 0]]))  # Prints \"[1 4 5]\""
   ]
  },
  {
   "cell_type": "markdown",
   "metadata": {},
   "source": [
    "### Mixing integer indexing with slice indexing\n",
    "You can also mix integer indexing with slice indexing. However, doing so will yield an array of lower rank than the original array. \n",
    "> Mixing integer indexing with slices yields an array of lower rank, while using only slices yields an array of the same rank as the original array"
   ]
  },
  {
   "cell_type": "markdown",
   "metadata": {},
   "source": [
    "#### Row slicing"
   ]
  },
  {
   "cell_type": "code",
   "execution_count": 54,
   "metadata": {},
   "outputs": [
    {
     "name": "stdout",
     "output_type": "stream",
     "text": [
      "Output array: [5 6 7 8], Output rank: (4,)\n",
      "Output array: [[5 6 7 8]], Output rank: (1, 4)\n"
     ]
    }
   ],
   "source": [
    "a = np.array([[1,2,3,4], [5,6,7,8], [9,10,11,12]])\n",
    "\n",
    "row_r1 = a[1, :]    # Rank 1 view of the second row of a  \n",
    "row_r2 = a[1:2, :]  # Rank 2 view of the second row of a\n",
    "print (\"Output array: {0}, Output rank: {1}\".format(row_r1, row_r1.shape))  # Prints \"[5 6 7 8] (4,)\"\n",
    "print (\"Output array: {0}, Output rank: {1}\".format(row_r2, row_r2.shape))  # Prints \"[[5 6 7 8]] (1, 4)\"\n"
   ]
  },
  {
   "cell_type": "markdown",
   "metadata": {},
   "source": [
    "### Boolean Array Indexing\n",
    "\n",
    "<img src='../images/array_3x4_4.png' width='20%' align='left'>"
   ]
  },
  {
   "cell_type": "code",
   "execution_count": 58,
   "metadata": {},
   "outputs": [
    {
     "name": "stdout",
     "output_type": "stream",
     "text": [
      "[[False False False False]\n",
      " [False False  True  True]\n",
      " [ True  True  True  True]]\n",
      "[ 7  8  9 10 11 12]\n"
     ]
    }
   ],
   "source": [
    "import numpy as np\n",
    "\n",
    "a = np.array([[1,2,3,4], [5,6,7,8], [9,10,11,12]])\n",
    "\n",
    "bool_idx = (a > 6)  # Find the elements of a that are bigger than 6;\n",
    "                    # this returns a numpy array of Booleans of the same\n",
    "                    # shape as a, where each slot of bool_idx tells\n",
    "                    # whether that element of a is > 6.\n",
    "            \n",
    "print (bool_idx)     \n",
    "\n",
    "# We use boolean array indexing to construct a rank 1 array\n",
    "# consisting of the elements of a corresponding to the True values\n",
    "# of bool_idx\n",
    "print (a[bool_idx]) \n"
   ]
  },
  {
   "cell_type": "markdown",
   "metadata": {},
   "source": [
    "> Event better, We can do all of the above in a single concise statement"
   ]
  },
  {
   "cell_type": "code",
   "execution_count": 61,
   "metadata": {},
   "outputs": [
    {
     "name": "stdout",
     "output_type": "stream",
     "text": [
      "[ 7  8  9 10 11 12]\n"
     ]
    }
   ],
   "source": [
    "print (a[a > 6])"
   ]
  },
  {
   "cell_type": "markdown",
   "metadata": {},
   "source": [
    "## Exercise:\n",
    "#### Problem 1: Generate a random 4 elements vector, then build a new vector with 2 consecutive zeros interleaved between each value. \n",
    "\n",
    "> [Hint: answer is expected as:[1,0,0,3,0,0,5,0,0,7]]"
   ]
  },
  {
   "cell_type": "code",
   "execution_count": 1,
   "metadata": {},
   "outputs": [],
   "source": [
    "######please insert your code here#######\n",
    "\n",
    "\n",
    "\n"
   ]
  },
  {
   "cell_type": "markdown",
   "metadata": {},
   "source": [
    "#### Problem 2: Generate a random 3 by 3 array and swap first 2 rows.\n"
   ]
  },
  {
   "cell_type": "code",
   "execution_count": 73,
   "metadata": {},
   "outputs": [
    {
     "name": "stdout",
     "output_type": "stream",
     "text": [
      "[[0 1 2]\n",
      " [3 4 5]\n",
      " [6 7 8]]\n",
      "\n",
      "[[3 4 5]\n",
      " [0 1 2]\n",
      " [6 7 8]]\n"
     ]
    }
   ],
   "source": [
    "######please insert your code here#######\n",
    "\n",
    "\n",
    "\n",
    "\n",
    "\n"
   ]
  },
  {
   "cell_type": "markdown",
   "metadata": {},
   "source": [
    "----"
   ]
  },
  {
   "cell_type": "markdown",
   "metadata": {},
   "source": [
    "# $\\Delta$ 4. Array Operations - Universal Function \"unfuc\"\n",
    "\n",
    "> A universal function (or **\"ufunc\"** for short) is a function that operates on ndarrays in an **_element-by-element_** fashion, supporting array broadcasting, type casting, and several other standard features. That is, a ufunc is a **“vectorized” wrapper** for a function that takes a fixed number of scalar inputs and produces a fixed number of scalar outputs. \n",
    "\n",
    "> > **_Universal functions run much faster than for loops, which should be avoided whenever possible._**\n",
    "\n",
    "* Examples include:\n",
    "  * add\n",
    "  * subtract\n",
    "  * multiply\n",
    "  * exp\n",
    "  * log\n",
    "  * power\n"
   ]
  },
  {
   "cell_type": "markdown",
   "metadata": {},
   "source": [
    "## 4.1 Basic Operations"
   ]
  },
  {
   "cell_type": "code",
   "execution_count": 74,
   "metadata": {},
   "outputs": [
    {
     "name": "stdout",
     "output_type": "stream",
     "text": [
      "[[ 6.  8.]\n",
      " [10. 12.]]\n",
      "[[ 6.  8.]\n",
      " [10. 12.]]\n",
      "\n",
      "[[-4. -4.]\n",
      " [-4. -4.]]\n",
      "[[-4. -4.]\n",
      " [-4. -4.]]\n",
      "\n",
      "[[ 5. 12.]\n",
      " [21. 32.]]\n",
      "[[ 5. 12.]\n",
      " [21. 32.]]\n",
      "\n",
      "[[0.2        0.33333333]\n",
      " [0.42857143 0.5       ]]\n",
      "[[0.2        0.33333333]\n",
      " [0.42857143 0.5       ]]\n",
      "\n",
      "[[1.         1.41421356]\n",
      " [1.73205081 2.        ]]\n"
     ]
    }
   ],
   "source": [
    "import numpy as np\n",
    "\n",
    "x = np.array([[1,2],[3,4]], dtype=np.float64)\n",
    "y = np.array([[5,6],[7,8]], dtype=np.float64)\n",
    "\n",
    "# Elementwise sum; both produce the array\n",
    "print (x + y)\n",
    "print (np.add(x, y))\n",
    "print(\"\")\n",
    "\n",
    "# Elementwise difference; both produce the array\n",
    "print (x - y)\n",
    "print (np.subtract(x, y))\n",
    "print(\"\")\n",
    "\n",
    "# Elementwise product; both produce the array\n",
    "print (x * y)\n",
    "print (np.multiply(x, y))\n",
    "print(\"\")\n",
    "\n",
    "# Elementwise division; both produce the array\n",
    "print (x / y)\n",
    "print (np.divide(x, y))\n",
    "print(\"\")\n",
    "\n",
    "# Elementwise square root; produces the array\n",
    "print (np.sqrt(x))"
   ]
  },
  {
   "cell_type": "markdown",
   "metadata": {},
   "source": [
    "> **_Universal functions run much faster than for loops, which should be avoided whenever possible._**"
   ]
  },
  {
   "cell_type": "markdown",
   "metadata": {},
   "source": [
    "#### Matrix Element-wise Multiply vs Python For Loop"
   ]
  },
  {
   "cell_type": "code",
   "execution_count": 84,
   "metadata": {},
   "outputs": [],
   "source": [
    "# matrix mulitplication\n",
    "a = np.random.random((100,100))\n",
    "b = np.random.random((100,100))\n",
    "\n",
    "# Method 1: matrix multiplication using universal function\n",
    "def mult1(a,b):\n",
    "    return a * b\n",
    "\n",
    "# Method 2: matrix multiplication using loops -  !!!should always avoid for loops!!\n",
    "def mult1oop(a,b):\n",
    "    c = np.empty(a.shape)\n",
    "    \n",
    "    for i in range(a.shape[0]):\n",
    "        for j in range(a.shape[1]):\n",
    "            c[i,j] = a[i,j] * b [i,j]\n",
    "            \n",
    "    return c"
   ]
  },
  {
   "cell_type": "code",
   "execution_count": 85,
   "metadata": {},
   "outputs": [
    {
     "name": "stdout",
     "output_type": "stream",
     "text": [
      "7.72 µs ± 770 ns per loop (mean ± std. dev. of 7 runs, 100000 loops each)\n"
     ]
    }
   ],
   "source": [
    "import numpy as np\n",
    "import timeit\n",
    "\n",
    "%timeit mult1(a,b) #Matrix Element-wise Multiply won!!!"
   ]
  },
  {
   "cell_type": "code",
   "execution_count": 86,
   "metadata": {},
   "outputs": [
    {
     "name": "stdout",
     "output_type": "stream",
     "text": [
      "4.94 ms ± 85.9 µs per loop (mean ± std. dev. of 7 runs, 100 loops each)\n"
     ]
    }
   ],
   "source": [
    "%timeit mult1oop(a,b)"
   ]
  },
  {
   "cell_type": "markdown",
   "metadata": {},
   "source": [
    "> One millisecond is 10^(-3)s; one microsecond is 10^(-6)s"
   ]
  },
  {
   "cell_type": "markdown",
   "metadata": {},
   "source": [
    "-----\n",
    "# $\\Delta$ 5. Array Methods\n",
    "\n",
    "#### *List of avaiable numpy array methods*\n",
    "    arr.T             arr.copy          arr.getfield      arr.put           arr.squeeze\n",
    "    arr.all           arr.ctypes        arr.imag          arr.ravel         arr.std\n",
    "    arr.any           arr.cumprod       arr.item          arr.real          arr.strides\n",
    "    arr.argmax        arr.cumsum        arr.itemset       arr.repeat        arr.sum\n",
    "    arr.argmin        arr.data          arr.itemsize      arr.reshape       arr.swapaxes\n",
    "    arr.argsort       arr.diagonal      arr.max           arr.resize        arr.take\n",
    "    arr.astype        arr.dot           arr.mean          arr.round         arr.tofile\n",
    "    arr.base          arr.dtype         arr.min           arr.searchsorted  arr.tolist\n",
    "    arr.byteswap      arr.dump          arr.nbytes        arr.setasflat     arr.tostring\n",
    "    arr.choose        arr.dumps         arr.ndim          arr.setfield      arr.trace\n",
    "    arr.clip          arr.fill          arr.newbyteorder  arr.setflags      arr.transpose\n",
    "    arr.compress      arr.flags         arr.nonzero       arr.shape         arr.var\n",
    "    arr.conj          arr.flat          arr.prod          arr.size          arr.view\n",
    "    arr.conjugate     arr.flatten       arr.ptp           arr.sort   "
   ]
  },
  {
   "cell_type": "markdown",
   "metadata": {},
   "source": [
    "## 5.1 Array Statistics"
   ]
  },
  {
   "cell_type": "markdown",
   "metadata": {},
   "source": [
    "### Simple aggregation"
   ]
  },
  {
   "cell_type": "code",
   "execution_count": 89,
   "metadata": {},
   "outputs": [
    {
     "name": "stdout",
     "output_type": "stream",
     "text": [
      "10\n",
      "[4 6]\n",
      "[3 7]\n"
     ]
    }
   ],
   "source": [
    "import numpy as np\n",
    "\n",
    "x = np.array([[1,2],[3,4]])\n",
    "\n",
    "print (np.sum(x))  # Compute sum of all elements; prints \"10\"\n",
    "print (np.sum(x, axis=0))  # Compute sum of each column; prints \"[4 6]\"\n",
    "print (np.sum(x, axis=1))  # Compute sum of each row; prints \"[3 7]\""
   ]
  },
  {
   "cell_type": "markdown",
   "metadata": {},
   "source": [
    "### Calculate min(), max(), standard deviation"
   ]
  },
  {
   "cell_type": "code",
   "execution_count": 93,
   "metadata": {},
   "outputs": [
    {
     "name": "stdout",
     "output_type": "stream",
     "text": [
      "[[0 1 2 3]\n",
      " [4 5 6 7]]\n",
      "\n",
      "Minimum and maximum             : 0, 7\n",
      "Sum and product of all elements : 28, 0\n",
      "Mean and standard deviation     : 3.5, 2.29128784747792\n"
     ]
    }
   ],
   "source": [
    "arr = np.arange(8).reshape(2,4)\n",
    "print(arr)\n",
    "print(\"\")\n",
    "\n",
    "print ('Minimum and maximum             : {}, {}'.format(arr.min(), arr.max()))\n",
    "print ('Sum and product of all elements : {}, {}'.format(arr.sum(), arr.prod()))\n",
    "print ('Mean and standard deviation     : {}, {}'.format(arr.mean(), arr.std()))"
   ]
  },
  {
   "cell_type": "markdown",
   "metadata": {},
   "source": [
    "### Cumulative sum"
   ]
  },
  {
   "cell_type": "code",
   "execution_count": 94,
   "metadata": {},
   "outputs": [
    {
     "data": {
      "text/plain": [
       "array([ 0,  1,  3,  6, 10, 15, 21, 28])"
      ]
     },
     "execution_count": 94,
     "metadata": {},
     "output_type": "execute_result"
    }
   ],
   "source": [
    "arr.cumsum()"
   ]
  },
  {
   "cell_type": "markdown",
   "metadata": {},
   "source": [
    "### Array operations along an axis"
   ]
  },
  {
   "cell_type": "code",
   "execution_count": 95,
   "metadata": {},
   "outputs": [
    {
     "name": "stdout",
     "output_type": "stream",
     "text": [
      "For the following array:\n",
      " [[0 1 2 3]\n",
      " [4 5 6 7]]\n",
      "The sum of elements along the rows is    : [ 6 22]\n",
      "The sum of elements along the columns is : [ 4  6  8 10]\n"
     ]
    }
   ],
   "source": [
    "print ('For the following array:\\n', arr)\n",
    "print ('The sum of elements along the rows is    :', arr.sum(axis=1))\n",
    "print ('The sum of elements along the columns is :', arr.sum(axis=0))"
   ]
  },
  {
   "cell_type": "markdown",
   "metadata": {},
   "source": [
    "### Get mean value\n"
   ]
  },
  {
   "cell_type": "code",
   "execution_count": 96,
   "metadata": {
    "scrolled": true
   },
   "outputs": [
    {
     "name": "stdout",
     "output_type": "stream",
     "text": [
      "2.5\n",
      "[2. 3.]\n",
      "[1.5 3.5]\n",
      "2.5\n"
     ]
    }
   ],
   "source": [
    "a = np.array([[1, 2], [3, 4]])\n",
    "print (np.mean(a))\n",
    "print (np.mean(a, axis=0))  ## average along y-axis\n",
    "print (np.mean(a, axis=1))  ## average along x-axis\n",
    "print (a.mean())"
   ]
  }
 ],
 "metadata": {
  "anaconda-cloud": {},
  "kernelspec": {
   "display_name": "Python 3",
   "language": "python",
   "name": "python3"
  },
  "language_info": {
   "codemirror_mode": {
    "name": "ipython",
    "version": 3
   },
   "file_extension": ".py",
   "mimetype": "text/x-python",
   "name": "python",
   "nbconvert_exporter": "python",
   "pygments_lexer": "ipython3",
   "version": "3.6.2"
  }
 },
 "nbformat": 4,
 "nbformat_minor": 2
}
