{
 "cells": [
  {
   "cell_type": "markdown",
   "metadata": {
    "collapsed": true
   },
   "source": [
    "<img src='../images/wcd_logo.png' width='50%'>\n",
    "-------------\n",
    "\n",
    "<h1 align='center'> Python Plotting Tutorials </h1>\n",
    "\n",
    "<br>\n",
    "<center align=\"left\"> Developed by: </center>\n",
    "<center align=\"left\"> WeCloudData Academy </center>"
   ]
  },
  {
   "cell_type": "markdown",
   "metadata": {},
   "source": [
    "## Plotting libraries in Python: \n",
    "\n",
    "* **matplotlib** is for basic plotting -- bars, pies, lines, scatter plots, etc.\n",
    "* **Seaborn** is for statistical visualization -- use it if you're creating heatmaps or somehow summarizing your data and still want to show the distribution of your data.\n",
    "* **Plotly** is a graphing library makes interactive, publication-quality graphs online.\n"
   ]
  },
  {
   "cell_type": "markdown",
   "metadata": {},
   "source": [
    "# Tool 1: Matplotlib\n",
    "\n",
    "> Package installation  \n",
    "> `pip install matplotlib`"
   ]
  },
  {
   "cell_type": "code",
   "execution_count": 1,
   "metadata": {},
   "outputs": [],
   "source": [
    "%matplotlib inline\n",
    "import matplotlib.pylab as plt"
   ]
  },
  {
   "cell_type": "code",
   "execution_count": null,
   "metadata": {},
   "outputs": [],
   "source": [
    "help(plt)"
   ]
  },
  {
   "cell_type": "code",
   "execution_count": 2,
   "metadata": {},
   "outputs": [],
   "source": [
    "# Random dataset generation\n",
    "import numpy as np\n",
    "x = np.random.uniform(0, 1, 20)\n",
    "\n",
    "def f(x): \n",
    "    return x * 2\n",
    "\n",
    "noise_variance = 0.2  # Variance of the gaussian noise\n",
    "noise = np.random.randn(x.shape[0]) * noise_variance\n",
    "\n",
    "t = f(x) + noise"
   ]
  },
  {
   "cell_type": "code",
   "execution_count": 3,
   "metadata": {},
   "outputs": [
    {
     "name": "stdout",
     "output_type": "stream",
     "text": [
      "[0.30985563 0.871206   0.24604894 0.9964821  0.34156157 0.28243869\n",
      " 0.49450006 0.88502185 0.06933943 0.4381193  0.40639968 0.70348334\n",
      " 0.45828677 0.79701274 0.09724832 0.01490183 0.25395185 0.7141089\n",
      " 0.44571077 0.03171044]\n",
      "[ 0.27244902  1.7788459   0.48905687  1.62953079  0.81302605  0.77784637\n",
      "  1.265132    1.85744314 -0.08531998  0.98624055  0.712762    1.15495245\n",
      "  1.24971574  1.48769169  0.1842207   0.12659758  0.32869261  1.4352814\n",
      "  1.35900816  0.18697497]\n"
     ]
    }
   ],
   "source": [
    "print(x)\n",
    "print(t)"
   ]
  },
  {
   "cell_type": "markdown",
   "metadata": {},
   "source": [
    "#### Basic parameters"
   ]
  },
  {
   "cell_type": "code",
   "execution_count": 4,
   "metadata": {},
   "outputs": [
    {
     "data": {
      "text/plain": [
       "<matplotlib.legend.Legend at 0x10f4fc748>"
      ]
     },
     "execution_count": 4,
     "metadata": {},
     "output_type": "execute_result"
    },
    {
     "data": {
      "image/png": "[encoded data removed]",
      "text/plain": [
       "<matplotlib.figure.Figure at 0x10f4921d0>"
      ]
     },
     "metadata": {},
     "output_type": "display_data"
    }
   ],
   "source": [
    "# Plot the target t versus the input x\n",
    "plt.plot(x, t, 'o', label='t', alpha=0.7)\n",
    "\n",
    "# Plot the initial line: \"b-\" blue solid line, alpha-0.0 transparent through 1.0 opaque\n",
    "plt.plot([0, 1], [f(0), f(1)], 'b-', label='f(x)', alpha=0.5)\n",
    "\n",
    "#Mathtext should be placed between a pair of dollar signs ($)\n",
    "plt.xlabel('$x$', fontsize=15) \n",
    "plt.ylabel('$t$', fontsize=15)\n",
    "\n",
    "plt.xlim([0,1])\n",
    "plt.ylim([0,2])\n",
    "plt.title('Linearity')\n",
    "plt.grid()\n",
    "plt.legend(loc=2)\n",
    "# plt.show()"
   ]
  },
  {
   "cell_type": "markdown",
   "metadata": {},
   "source": [
    "#### Simple dots"
   ]
  },
  {
   "cell_type": "code",
   "execution_count": 5,
   "metadata": {},
   "outputs": [
    {
     "data": {
      "text/plain": [
       "Text(0.5,1,'Dots')"
      ]
     },
     "execution_count": 5,
     "metadata": {},
     "output_type": "execute_result"
    },
    {
     "data": {
      "image/png": "[encoded data removed]",
      "text/plain": [
       "<matplotlib.figure.Figure at 0x10f5da630>"
      ]
     },
     "metadata": {},
     "output_type": "display_data"
    }
   ],
   "source": [
    "### Plotting dots\n",
    "x = np.arange(0,1,0.03)\n",
    "y = x**2\n",
    "\n",
    "plt.plot(x, y, \"ro\")\n",
    "plt.xlabel('x')\n",
    "plt.ylabel('y')\n",
    "plt.title('Dots')"
   ]
  },
  {
   "cell_type": "markdown",
   "metadata": {},
   "source": [
    "#### Simple line"
   ]
  },
  {
   "cell_type": "code",
   "execution_count": 6,
   "metadata": {},
   "outputs": [
    {
     "data": {
      "text/plain": [
       "Text(0.5,1,'Line Chart')"
      ]
     },
     "execution_count": 6,
     "metadata": {},
     "output_type": "execute_result"
    },
    {
     "data": {
      "image/png": "[encoded data removed]",
      "text/plain": [
       "<matplotlib.figure.Figure at 0x1102f2780>"
      ]
     },
     "metadata": {},
     "output_type": "display_data"
    }
   ],
   "source": [
    "### Plotting line\n",
    "x = np.arange(0,1,0.03)\n",
    "y = x**2\n",
    "\n",
    "plt.plot(x, y) #default is simple line\n",
    "plt.xlabel('x')\n",
    "plt.ylabel('y')\n",
    "plt.title('Line Chart')"
   ]
  },
  {
   "cell_type": "markdown",
   "metadata": {},
   "source": [
    "#### Add layers"
   ]
  },
  {
   "cell_type": "code",
   "execution_count": 7,
   "metadata": {},
   "outputs": [
    {
     "name": "stdout",
     "output_type": "stream",
     "text": [
      "[0.         0.21666156 0.43332312 0.64998469 0.86664625 1.08330781\n",
      " 1.29996937 1.51663094 1.7332925  1.94995406 2.16661562 2.38327719\n",
      " 2.59993875 2.81660031 3.03326187 3.24992343 3.466585   3.68324656\n",
      " 3.89990812 4.11656968 4.33323125 4.54989281 4.76655437 4.98321593\n",
      " 5.1998775  5.41653906 5.63320062 5.84986218 6.06652374 6.28318531]\n"
     ]
    },
    {
     "data": {
      "image/png": "[encoded data removed]",
      "text/plain": [
       "<matplotlib.figure.Figure at 0x1102ec400>"
      ]
     },
     "metadata": {},
     "output_type": "display_data"
    }
   ],
   "source": [
    "x = np.linspace(0, 2*np.pi, 30)\n",
    "print(x)\n",
    "y = np.sin(x)\n",
    "\n",
    "plt.plot(x, y)\n",
    "plt.plot(x, y, 'o', markersize=5, color='r');"
   ]
  },
  {
   "cell_type": "markdown",
   "metadata": {},
   "source": [
    "#### Histogram"
   ]
  },
  {
   "cell_type": "code",
   "execution_count": null,
   "metadata": {},
   "outputs": [],
   "source": [
    "mu, sigma = 100, 15\n",
    "x = mu + sigma * np.random.randn(10000)\n",
    "\n",
    "# the histogram of the data\n",
    "n, bins, patches = plt.hist(x, 50, normed=True, facecolor='g', alpha=0.5)\n",
    "\n",
    "plt.xlabel('Smarts')\n",
    "plt.ylabel('Probability')\n",
    "plt.title('Histogram')\n",
    "# # This will put a text fragment at the position given:\n",
    "plt.text(55, .027, '$\\mu=100,\\sigma=15$', fontsize=14)\n",
    "plt.axis([40, 160, 0, 0.03])\n",
    "plt.grid(True)"
   ]
  },
  {
   "cell_type": "markdown",
   "metadata": {},
   "source": [
    "> **normed**: If True, the result is the value of the probability density function at the bin, normalized such that the integral over the range is 1."
   ]
  },
  {
   "cell_type": "markdown",
   "metadata": {},
   "source": [
    "#### Boxplot\n"
   ]
  },
  {
   "cell_type": "code",
   "execution_count": null,
   "metadata": {},
   "outputs": [],
   "source": [
    "import numpy as np\n",
    "import pandas as pd\n",
    "\n",
    "alcohol = pd.read_csv('../data/alcohol_data.csv')\n",
    "df = alcohol[0:10]\n",
    "df"
   ]
  },
  {
   "cell_type": "code",
   "execution_count": null,
   "metadata": {
    "scrolled": true
   },
   "outputs": [],
   "source": [
    "plt.boxplot(alcohol['alcohol'])\n",
    "plt.xlabel('x')\n",
    "\n",
    "plt.ylabel('Alcohol Consumption')\n",
    "plt.title('Boxplot')"
   ]
  },
  {
   "cell_type": "markdown",
   "metadata": {},
   "source": [
    "#### Scatterplot\n",
    "\n",
    "Check how to generate a random regression problem: [Reference Link](http://scikit-learn.org/stable/modules/generated/sklearn.datasets.make_regression.html)"
   ]
  },
  {
   "cell_type": "code",
   "execution_count": null,
   "metadata": {},
   "outputs": [],
   "source": [
    "from sklearn import datasets\n",
    "import numpy as np\n",
    "\n",
    "#Generate a random regression problem\n",
    "X, y, coef = datasets.make_regression(n_samples=100, n_features=1,\n",
    "                                      n_informative=1, noise=50,\n",
    "                                      coef=True, random_state=1)\n",
    "\n",
    "\n",
    "x = X.reshape(len(X),)\n",
    "y = y.reshape(len(y),)\n",
    "\n",
    "plt.xlabel('x')\n",
    "plt.ylabel('y')\n",
    "plt.title('Scatterplot')\n",
    "\n",
    "plt.scatter(x, y, alpha=0.5)\n",
    "print(\"Correlation Coefficient: {}\".format(np.corrcoef(x,y)[0][1]))"
   ]
  },
  {
   "cell_type": "markdown",
   "metadata": {},
   "source": [
    "> 1. **n_informative** : The number of informative features, i.e., the number of features used to build the linear model used to generate the output.\n",
    "2. **random_state**: If int, random_state is the seed used by the random number generator"
   ]
  },
  {
   "cell_type": "markdown",
   "metadata": {},
   "source": [
    "---"
   ]
  },
  {
   "cell_type": "markdown",
   "metadata": {},
   "source": [
    "# Tool 2: Pandas"
   ]
  },
  {
   "cell_type": "code",
   "execution_count": null,
   "metadata": {},
   "outputs": [],
   "source": [
    "# Data from R ISLR package \n",
    "boston_df = pd.read_csv(\"../data/Boston.csv\")\n",
    "boston_df.head()"
   ]
  },
  {
   "cell_type": "markdown",
   "metadata": {},
   "source": [
    "#### Scatter Matrix"
   ]
  },
  {
   "cell_type": "code",
   "execution_count": null,
   "metadata": {},
   "outputs": [],
   "source": [
    "from pandas.plotting import scatter_matrix\n",
    "scatter_matrix = scatter_matrix(boston_df, alpha=0.2, figsize=(17,17), \n",
    "                                diagonal='kde')\n",
    "\n",
    "#‘kde’ or 'density' for density plots in diagonal"
   ]
  },
  {
   "cell_type": "markdown",
   "metadata": {},
   "source": [
    "#### Time Series"
   ]
  },
  {
   "cell_type": "code",
   "execution_count": null,
   "metadata": {},
   "outputs": [],
   "source": [
    "import random\n",
    "\n",
    "random.seed(100)\n",
    "\n",
    "ts = pd.Series(np.random.randn(1000), index=pd.date_range('1/1/2000', periods=1000))\n",
    "df = pd.DataFrame(np.random.randn(1000, 4), index=ts.index, columns=list('ABCD'))\n",
    "df = df.cumsum()\n",
    "\n",
    "print(\"Shape:\",df.shape)\n",
    "df.head()"
   ]
  },
  {
   "cell_type": "code",
   "execution_count": null,
   "metadata": {},
   "outputs": [],
   "source": [
    "df.plot(alpha=0.7, figsize=(12, 9))"
   ]
  },
  {
   "cell_type": "markdown",
   "metadata": {},
   "source": [
    "#### Histograms"
   ]
  },
  {
   "cell_type": "code",
   "execution_count": null,
   "metadata": {},
   "outputs": [],
   "source": [
    "df4 = pd.DataFrame({'a': np.random.randn(1000) + 1, 'b': np.random.randn(1000),\n",
    "                    'c': np.random.randn(1000) - 1}, columns=['a', 'b', 'c'])\n",
    "df4.head()"
   ]
  },
  {
   "cell_type": "code",
   "execution_count": null,
   "metadata": {
    "scrolled": true
   },
   "outputs": [],
   "source": [
    "df4.plot.hist(alpha=0.5, figsize=(12, 9),bins=30)"
   ]
  },
  {
   "cell_type": "markdown",
   "metadata": {},
   "source": [
    "----\n",
    "## Lab: Visualize the correlation in titanic data.\n",
    "\n",
    "### Data\n",
    "\n",
    "The data set has 891 rows with 12 columns. The features are:\n",
    "\n",
    "* Survived: 0 = No, 1 = Yes\n",
    "* Pclass: Ticket class 1 = 1st, 2 = 2nd, 3 = 3rd\n",
    "* Name: Name of the passenger\n",
    "* Sex: male, female\n",
    "* Age: Age in years. Is fractional if less than 1. If the age is estimated, it is in the form of xx.5.\n",
    "* SibSp: # of siblings / spouses aboard the Titanic (Sibling = brother, sister, stepbrother, stepsister, Spouse = husband, wife). Mistresses and fiancés were ignored\n",
    "* Parch: # of parents / children aboard the Titanic (Parent = mother, father, Child = daughter, son, stepdaughter, stepson). Some children travelled only with a nanny, therefore Parch=0 for them.\n",
    "* Ticket: Ticket number\n",
    "* Fare: Passenger fare\n",
    "* Cabin: Cabin number\n",
    "* Embarked: Port of Embarkation C = Cherbourg, Q = Queenstown, S = Southampton"
   ]
  },
  {
   "cell_type": "code",
   "execution_count": null,
   "metadata": {
    "scrolled": true
   },
   "outputs": [],
   "source": [
    "df = pd.read_csv(\"../data/titanic.csv\")\n",
    "df.info()"
   ]
  },
  {
   "cell_type": "markdown",
   "metadata": {},
   "source": [
    "### Problem:\n",
    "\n",
    "1. Show the scatter matrix of all features.\n",
    "2. What is the distribution of Age alone?\n",
    "3. How to show the Age histograms depending on Survived response?\n",
    "4. How to show the Age histograms depending on Survived and Sex?\n",
    "5. How to show the relation between Survived values and Sex, Pclass?"
   ]
  },
  {
   "cell_type": "code",
   "execution_count": null,
   "metadata": {},
   "outputs": [],
   "source": [
    "#1.Show the scatter matrix of all features.\n",
    "####Please insert your code below####\n",
    "\n",
    "\n",
    "\n",
    "\n"
   ]
  },
  {
   "cell_type": "code",
   "execution_count": null,
   "metadata": {
    "scrolled": true
   },
   "outputs": [],
   "source": [
    "#2.\n",
    "####Please insert your code below####\n",
    "\n",
    "\n",
    "\n",
    "\n"
   ]
  },
  {
   "cell_type": "code",
   "execution_count": null,
   "metadata": {
    "scrolled": true
   },
   "outputs": [],
   "source": [
    "#3.\n",
    "####Please insert your code below####\n",
    "\n",
    "\n",
    "\n"
   ]
  },
  {
   "cell_type": "code",
   "execution_count": null,
   "metadata": {
    "scrolled": true
   },
   "outputs": [],
   "source": [
    "#4.\n",
    "####Please insert your code below####\n",
    "\n",
    "\n",
    "\n"
   ]
  },
  {
   "cell_type": "code",
   "execution_count": null,
   "metadata": {
    "scrolled": true
   },
   "outputs": [],
   "source": [
    "#5.\n",
    "####Please insert your code below####\n",
    "\n",
    "\n",
    "\n"
   ]
  },
  {
   "cell_type": "markdown",
   "metadata": {},
   "source": [
    "---"
   ]
  },
  {
   "cell_type": "markdown",
   "metadata": {},
   "source": [
    "# Tool 3 : Plotly\n",
    "\n",
    "Website: https://plot.ly/  \n",
    "Plotly for python: https://plot.ly/python/\n",
    "\n",
    "> Package Installation  \n",
    "> `pip install plotly`"
   ]
  },
  {
   "cell_type": "markdown",
   "metadata": {},
   "source": [
    "#### How to make plotly work properly in your notebook\n",
    "\n",
    "> 1. From command line prompt or anaconda prompt (windows), run \"jupyter notebook --generate-config\". A notebook configuration file will be created in a .jupyter hidden folder\n",
    "<img src='../images/jupyter_plotly_1.png' width='30%'>\n",
    "\n",
    "> 2. Open and edit the `~/.jupyter/jupyter_notebook_config.py` and increase the iopub_data_rate_limit config parameter and remove the `#` at the beginning of the line\n",
    "\n",
    "<img src='../images/jupyter_plotly_2.png' width='50%'>\n"
   ]
  },
  {
   "cell_type": "markdown",
   "metadata": {},
   "source": [
    "#### Scatterplots"
   ]
  },
  {
   "cell_type": "code",
   "execution_count": null,
   "metadata": {},
   "outputs": [],
   "source": [
    "import plotly\n",
    "import plotly.plotly as py\n",
    "from plotly import tools\n",
    "from plotly.graph_objs import *\n",
    "from plotly.offline import download_plotlyjs, init_notebook_mode, iplot\n",
    "import numpy as np\n",
    "\n",
    "#plot your graphs offline inside a Jupyter Notebook Environment\n",
    "init_notebook_mode(connected=True)\n",
    "\n",
    "trace1 = Scatter(\n",
    "    y = np.random.randn(500),\n",
    "    mode='markers',\n",
    "    marker=dict(\n",
    "        size='10',\n",
    "        color = np.random.randn(500), #set color equal to a variable\n",
    "        colorscale='Viridis',\n",
    "        showscale=True\n",
    "    )\n",
    ")\n",
    "\n",
    "data = [trace1]\n",
    "\n",
    "#display the plot in the notebook\n",
    "#Plotly will overwrite files made with the same filename\n",
    "iplot(data, filename='scatter-plot-with-colorscale')"
   ]
  },
  {
   "cell_type": "markdown",
   "metadata": {},
   "source": [
    "#### Bar Chart - Styled Bars"
   ]
  },
  {
   "cell_type": "code",
   "execution_count": null,
   "metadata": {},
   "outputs": [],
   "source": [
    "from plotly import __version__\n",
    "from plotly.offline import download_plotlyjs, init_notebook_mode, plot, iplot\n",
    "from plotly.graph_objs import Scatter, Figure, Layout, Box, Histogram\n",
    "\n",
    "init_notebook_mode(connected=True)\n",
    "\n",
    "df = pd.read_csv(\"../data/school.csv\")\n",
    "\n",
    "data = [Bar(x=df.School,\n",
    "            y=df.Gap)]\n",
    "\n",
    "fig= Figure(data=data, layout=layout)\n",
    "iplot(data, filename='jupyter/basic_bar')"
   ]
  },
  {
   "cell_type": "code",
   "execution_count": null,
   "metadata": {},
   "outputs": [],
   "source": [
    "trace_women = Bar(x=df.School,\n",
    "                  y=df.Women,\n",
    "                  name='Women',\n",
    "                  marker=dict(color='#ffcdd2'))\n",
    "\n",
    "trace_men = Bar(x=df.School,\n",
    "                y=df.Men,\n",
    "                name='Men',\n",
    "                marker=dict(color='#A2D5F2'))\n",
    "\n",
    "trace_gap = Bar(x=df.School,\n",
    "                y=df.Gap,\n",
    "                name='Gap',\n",
    "                marker=dict(color='#59606D'))\n",
    "\n",
    "data = [trace_women, trace_men, trace_gap]\n",
    "\n",
    "layout = Layout(title=\"Average Earnings for Graduates\",\n",
    "                xaxis=dict(title='School'),\n",
    "                yaxis=dict(title='Salary (in thousands)'))\n",
    "\n",
    "fig = Figure(data=data, layout=layout)\n",
    "\n",
    "iplot(fig, filename='jupyter/styled_bar')\n"
   ]
  },
  {
   "cell_type": "markdown",
   "metadata": {},
   "source": [
    "#### Boxplot"
   ]
  },
  {
   "cell_type": "code",
   "execution_count": null,
   "metadata": {},
   "outputs": [],
   "source": [
    "from plotly import __version__\n",
    "from plotly.offline import download_plotlyjs, init_notebook_mode, plot, iplot\n",
    "from plotly.graph_objs import Scatter, Figure, Layout, Box, Histogram\n",
    "\n",
    "init_notebook_mode()\n",
    "\n",
    "y = alcohol['alcohol'].values.tolist()\n",
    "\n",
    "trace = Box(\n",
    "    y=y,\n",
    "    name = 'Box Plot',\n",
    "    boxpoints='all',\n",
    "    jitter=0.3,\n",
    "    marker = dict(\n",
    "        color = 'rgb(214,12,140)',\n",
    "    ),\n",
    ")\n",
    "\n",
    "layout = Layout(\n",
    "    width=500,\n",
    "    yaxis=dict(\n",
    "        title='Alcohol Consumption by Country',\n",
    "        zeroline=False\n",
    "    ),\n",
    ")\n",
    "\n",
    "data = [trace]\n",
    "fig= Figure(data=data, layout=layout)\n",
    "iplot(fig, filename='alcohol-box-plot')"
   ]
  }
 ],
 "metadata": {
  "anaconda-cloud": {},
  "kernelspec": {
   "display_name": "Python 3",
   "language": "python",
   "name": "python3"
  },
  "language_info": {
   "codemirror_mode": {
    "name": "ipython",
    "version": 3
   },
   "file_extension": ".py",
   "mimetype": "text/x-python",
   "name": "python",
   "nbconvert_exporter": "python",
   "pygments_lexer": "ipython3",
   "version": "3.6.2"
  }
 },
 "nbformat": 4,
 "nbformat_minor": 2
}
