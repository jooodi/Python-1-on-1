{
 "cells": [
  {
   "cell_type": "markdown",
   "metadata": {},
   "source": [
    "-------------\n",
    "<h1 align='center'> Session 1: Python Syntax </h1>\n",
    "\n",
    "<center align=\"left\"> Developed by: </center>\n",
    "<center align=\"left\"> Jodie Zhu </center>\n",
    "\n",
    "----------\n",
    "\n",
    "## What is Python?\n",
    "Python is a popular programming language. It was created in 1991 by Guido van Rossum.\n",
    "\n",
    "It is used for:\n",
    "\n",
    "* web development (server-side),\n",
    "* software development,\n",
    "* mathematics,\n",
    "* system scripting.\n",
    "\n",
    "## What can Python do?\n",
    "* Python can be used on a server to create web applications.\n",
    "* Python can be used alongside software to create workflows.\n",
    "* Python can connect to database systems. It can also read and modify files.\n",
    "* Python can be used to handle big data and perform complex mathematics.\n",
    "* Python can be used for rapid prototyping, or for production-ready software development.\n",
    "\n",
    "## Why Python?\n",
    "* Python works on different platforms (Windows, Mac, Linux, Raspberry Pi, etc).\n",
    "* Python has a simple syntax similar to the English language.\n",
    "* Python has syntax that allows developers to write programs with fewer lines than some other programming languages.\n",
    "* Python runs on an interpreter system, meaning that code can be executed as soon as it is written. This means that prototyping can be very quick.\n",
    "* Python can be treated in a procedural way, an object-orientated way or a functional way.\n",
    "\n",
    "## Good to know\n",
    "* The most recent major version of Python is Python 3, which we shall be using in this tutorial. However, Python 2, although not being updated with anything other than security updates, is still quite popular.\n",
    "\n",
    "\n",
    "## Python Syntax compared to other programming languages\n",
    "* Python was designed to for readability, and has some similarities to the English language with influence from mathematics.\n",
    "* Python uses new lines to complete a command, as opposed to other programming languages which often use semicolons or parentheses.\n",
    "* Python relies on indentation, using whitespace, to define scope; such as the scope of loops, functions and classes. Other programming languages often use curly-brackets for this purpose.\n",
    "-------"
   ]
  },
  {
   "cell_type": "markdown",
   "metadata": {},
   "source": [
    "## 1.1 Python Indentations\n",
    "Where in other programming languages the indentation in code is for readability only, in Python the indentation is very important.\n",
    "\n",
    "Python uses indentation to indicate a block of code."
   ]
  },
  {
   "cell_type": "code",
   "execution_count": 1,
   "metadata": {},
   "outputs": [
    {
     "name": "stdout",
     "output_type": "stream",
     "text": [
      "Eight is greater than six!\n"
     ]
    }
   ],
   "source": [
    "if 8 > 6:\n",
    "  print(\"Eight is greater than six!\")"
   ]
  },
  {
   "cell_type": "markdown",
   "metadata": {},
   "source": [
    "Python will give you an error if you skip the indentation:"
   ]
  },
  {
   "cell_type": "code",
   "execution_count": 2,
   "metadata": {
    "scrolled": true
   },
   "outputs": [
    {
     "ename": "IndentationError",
     "evalue": "expected an indented block (<ipython-input-2-26b3d913a240>, line 2)",
     "output_type": "error",
     "traceback": [
      "\u001b[0;36m  File \u001b[0;32m\"<ipython-input-2-26b3d913a240>\"\u001b[0;36m, line \u001b[0;32m2\u001b[0m\n\u001b[0;31m    print(\"Eight is greater than six!\")\u001b[0m\n\u001b[0m        ^\u001b[0m\n\u001b[0;31mIndentationError\u001b[0m\u001b[0;31m:\u001b[0m expected an indented block\n"
     ]
    }
   ],
   "source": [
    "if 8 > 6:\n",
    "print(\"Eight is greater than six!\")"
   ]
  },
  {
   "cell_type": "markdown",
   "metadata": {},
   "source": [
    "## 1.2 Creating Variables"
   ]
  },
  {
   "cell_type": "markdown",
   "metadata": {},
   "source": [
    "Unlike other programming languages, Python has no command for declaring a variable.\n",
    "\n",
    "A variable is created the moment you first assign a value to it."
   ]
  },
  {
   "cell_type": "code",
   "execution_count": 3,
   "metadata": {
    "scrolled": true
   },
   "outputs": [
    {
     "name": "stdout",
     "output_type": "stream",
     "text": [
      "9\n",
      "Jo\n"
     ]
    }
   ],
   "source": [
    "x = 9\n",
    "y = \"Jo\"\n",
    "\n",
    "print(x)\n",
    "print(y)"
   ]
  },
  {
   "cell_type": "markdown",
   "metadata": {},
   "source": [
    "### 1.2.1 Variable Names\n",
    "A variable can have a short name (like x and y) or a more descriptive name (age, carname, total_volume). Rules for Python variables:\n",
    "* A variable name must start with a letter or the underscore character\n",
    "* A variable name cannot start with a number\n",
    "* A variable name can only contain alpha-numeric characters and underscores (A-z, 0-9, and _ )\n",
    "* Variable names are **case-sensitive** (age, Age and AGE are three different variables)"
   ]
  },
  {
   "cell_type": "markdown",
   "metadata": {},
   "source": [
    "## 1.3 Python Numbers\n",
    "\n",
    "There are three numeric types in Python:\n",
    "\n",
    "* int\n",
    "* float\n",
    "* complex\n",
    "Variables of numeric types are created when you assign a value to them:"
   ]
  },
  {
   "cell_type": "code",
   "execution_count": 7,
   "metadata": {},
   "outputs": [
    {
     "data": {
      "text/plain": [
       "(8, 9.5, 1j)"
      ]
     },
     "execution_count": 7,
     "metadata": {},
     "output_type": "execute_result"
    }
   ],
   "source": [
    "x = 8    # int\n",
    "y = 9.5  # float\n",
    "z = 1j   # complex\n",
    "\n",
    "x,y,z"
   ]
  },
  {
   "cell_type": "markdown",
   "metadata": {},
   "source": [
    "## 1.4 Python Casting"
   ]
  },
  {
   "cell_type": "markdown",
   "metadata": {},
   "source": [
    "There may be times when you want to specify a type on to a variable. This can be done with casting. Python is an object-orientated language, and as such it uses classes to define data types, including its primitive types.\n",
    "\n",
    "Casting in python is therefore done using constructor functions:\n",
    "\n",
    "* int() - constructs an integer number from an integer literal, a float literal (by rounding down to the previous whole number) literal, or a string literal (providing the string represents a whole number)\n",
    "* float() - constructs a float number from an integer literal, a float literal or a string literal (providing the string represents a float or an integer)\n",
    "* str() - constructs a string from a wide variety of data types, including strings, integer literals and float literals"
   ]
  },
  {
   "cell_type": "code",
   "execution_count": 6,
   "metadata": {},
   "outputs": [
    {
     "data": {
      "text/plain": [
       "(1, 2.0, '3')"
      ]
     },
     "execution_count": 6,
     "metadata": {},
     "output_type": "execute_result"
    }
   ],
   "source": [
    "x = int(1)   # x will be 1\n",
    "y = float(2) # y will be 2.0\n",
    "z = str(3) # z will be \"3\"\n",
    "\n",
    "x,y,z"
   ]
  },
  {
   "cell_type": "markdown",
   "metadata": {},
   "source": [
    "## 1.5 Python Strings"
   ]
  },
  {
   "cell_type": "markdown",
   "metadata": {},
   "source": [
    "### 1.5.1 String Literals\n",
    "String literals in python are surrounded by either single quotation marks, or double quotation marks.\n",
    "\n",
    "'hello' is the same as \"hello\".\n",
    "\n",
    "Strings can be output to screen using the print function. For example: \n",
    "```python\n",
    "print(\"hello\").\n",
    "```\n",
    "Like many other popular programming languages, strings in Python are arrays of bytes representing unicode characters. However, Python does not have a character data type, a single character is simply a string with a length of 1. Square brackets can be used to access elements of the string.\n",
    "\n",
    "**Example 1: Get the character at position 1**"
   ]
  },
  {
   "cell_type": "code",
   "execution_count": 9,
   "metadata": {},
   "outputs": [
    {
     "name": "stdout",
     "output_type": "stream",
     "text": [
      "h\n",
      "e\n"
     ]
    }
   ],
   "source": [
    "a = \"hello\"\n",
    "print(a[1])"
   ]
  },
  {
   "cell_type": "markdown",
   "metadata": {},
   "source": [
    "**Example 2: Substring. Get the characters from position 2 to position 5**"
   ]
  },
  {
   "cell_type": "code",
   "execution_count": 10,
   "metadata": {},
   "outputs": [
    {
     "name": "stdout",
     "output_type": "stream",
     "text": [
      "rld\n"
     ]
    }
   ],
   "source": [
    "b = \"world\"\n",
    "print(b[2:5])"
   ]
  },
  {
   "cell_type": "markdown",
   "metadata": {},
   "source": [
    "**Example 3: Substring. Get the last characters**"
   ]
  },
  {
   "cell_type": "code",
   "execution_count": 11,
   "metadata": {
    "scrolled": true
   },
   "outputs": [
    {
     "name": "stdout",
     "output_type": "stream",
     "text": [
      "e\n"
     ]
    }
   ],
   "source": [
    "c = \"life\"\n",
    "print(c[-1])"
   ]
  },
  {
   "cell_type": "markdown",
   "metadata": {},
   "source": [
    "<img src='../images/string_index.png' width='50%'>"
   ]
  },
  {
   "cell_type": "code",
   "execution_count": null,
   "metadata": {},
   "outputs": [],
   "source": []
  },
  {
   "cell_type": "code",
   "execution_count": null,
   "metadata": {},
   "outputs": [],
   "source": []
  },
  {
   "cell_type": "code",
   "execution_count": null,
   "metadata": {},
   "outputs": [],
   "source": [
    "s=\"abc\"\n",
    "s[0]\n",
    "# s[1]\n",
    "# s[2]\n",
    "s[3] #out of bound!\n",
    "# s[-1]\n",
    "# s[-2]\n",
    "# s[-3]## 1.3 String - slicing\n",
    "slice strings using [start:stop:step]"
   ]
  },
  {
   "cell_type": "markdown",
   "metadata": {},
   "source": [
    "### String - slicing\n",
    "slice strings using [start:**stop**:step]"
   ]
  },
  {
   "cell_type": "code",
   "execution_count": null,
   "metadata": {},
   "outputs": [],
   "source": [
    "s=\"abcdefghi\"\n",
    "s[1:5]\n",
    "s[1:5:2]"
   ]
  },
  {
   "cell_type": "markdown",
   "metadata": {},
   "source": [
    "> if give two numbers, [start:stop], step=1 by default"
   ]
  },
  {
   "cell_type": "markdown",
   "metadata": {},
   "source": [
    "you can also omit numbers and leave just colons"
   ]
  },
  {
   "cell_type": "code",
   "execution_count": null,
   "metadata": {},
   "outputs": [],
   "source": [
    "s=\"abcdefghi\"\n",
    "s[:]\n",
    "# * you can also omit numbers and leave just colons"
   ]
  },
  {
   "cell_type": "markdown",
   "metadata": {},
   "source": [
    "### String - immutable\n",
    "Strings are “immutable” – cannot be modified "
   ]
  },
  {
   "cell_type": "code",
   "execution_count": null,
   "metadata": {
    "scrolled": false
   },
   "outputs": [],
   "source": [
    "s=\"Jelly\"\n",
    "s[0]=\"B\" #raise an error!"
   ]
  },
  {
   "cell_type": "code",
   "execution_count": null,
   "metadata": {},
   "outputs": [],
   "source": [
    "#instead we could create a new variable and cover s\n",
    "s=\"B\"+s[1:len(s)]\n",
    "s"
   ]
  },
  {
   "cell_type": "markdown",
   "metadata": {},
   "source": [
    "### String - other operations\n",
    "\n",
    "Also, python has several built-in functions associated with the string data type. These functions let us easily modify and manipulate strings. For example, s.lower(),s.upper(), s.capitalize(), s.strip(), s.startwith(), s.endswith(), s.replace(), s.split(), s.join()\n",
    "\n",
    "For details, please check:[Strings](https://docs.python.org/2/library/string.html)\n"
   ]
  },
  {
   "cell_type": "markdown",
   "metadata": {},
   "source": [
    "#### Example\n",
    "* convert string to list with list(s)"
   ]
  },
  {
   "cell_type": "code",
   "execution_count": null,
   "metadata": {
    "scrolled": false
   },
   "outputs": [],
   "source": [
    "s=\"Hey! We are in 2018## 1.6 Strings and Loops\n",
    "\n",
    "* for loops have a loop variable that iterates over a set of values\n",
    "* range(start:end:step) is a way to iterate over numbers, but a for loop variable can iterate over **any set of values**, not just numbers!\n",
    "\n",
    "### Example\n",
    "\n",
    "We want to figure out if there exists letters \"b\" or \"d\" inside the string.\n",
    "\n",
    "* these two code snippets do the same thing\n",
    "* bottom one is more “pythonic”\" #s is a string, inside quotes\n",
    "list(s) #returns a list with every character from s an element in L"
   ]
  },
  {
   "cell_type": "markdown",
   "metadata": {},
   "source": [
    "* use s.split(), to split a string on a character parameter"
   ]
  },
  {
   "cell_type": "code",
   "execution_count": null,
   "metadata": {
    "scrolled": true
   },
   "outputs": [],
   "source": [
    "s.split() #splits on spaces if called without a parameter\n",
    "s.split(\"!\") #split by exclamation mark\n"
   ]
  },
  {
   "cell_type": "markdown",
   "metadata": {},
   "source": [
    "* use ''.join(L) to turn a list of characters into a string"
   ]
  },
  {
   "cell_type": "code",
   "execution_count": null,
   "metadata": {},
   "outputs": [],
   "source": [
    "L=['a','b','c','d']\n",
    "''.join(L)\n",
    "'!'.join(L) \n",
    "      "
   ]
  },
  {
   "cell_type": "markdown",
   "metadata": {},
   "source": [
    "### Strings and Loops\n",
    "\n",
    "* for loops have a loop variable that iterates over a set of values\n",
    "* range(start:end:step) is a way to iterate over numbers, but a for loop variable can iterate over **any set of values**, not just numbers!\n",
    "\n",
    "#### Example\n",
    "\n",
    "We want to figure out if there exists letters \"b\" or \"d\" inside the string.\n",
    "\n",
    "* these two code snippets do the same thing\n",
    "* bottom one is more “pythonic”"
   ]
  },
  {
   "cell_type": "code",
   "execution_count": null,
   "metadata": {},
   "outputs": [],
   "source": [
    "#Method 1\n",
    "s = \"abcde\"\n",
    "\n",
    "for index in range(len(s)):\n",
    "    if s[index] == 'b' or s[index] == 'd':\n",
    "        print(\"There is an b or d\")"
   ]
  },
  {
   "cell_type": "code",
   "execution_count": null,
   "metadata": {},
   "outputs": [],
   "source": [
    "#Method 2\n",
    "s = \"abcde\"\n",
    "\n",
    "for char in s:\n",
    "    if char == 'b' or char == 'd':\n",
    "        print(\"There is an b or d\")"
   ]
  },
  {
   "cell_type": "markdown",
   "metadata": {},
   "source": [
    "----\n",
    "### Exercise: Strings \n",
    "\n",
    "You are given a string representing an attendance record for a student. The record only contains the following **three characters**:\n",
    "\n",
    "**'A' : Absent.\n",
    "'L' : Late.\n",
    "'P' : Present.**\n",
    "\n",
    "A student could be rewarded if his attendance record **doesn't contain more than one 'A' (absent) or more than two continuous 'L' (late)**.\n",
    "\n",
    "Question: You need to return whether the student could be rewarded according to his attendance record.\n",
    "\n",
    "<img src='../images/Attendance Record.gif' width='30%'>\n",
    "\n",
    "\n"
   ]
  },
  {
   "cell_type": "markdown",
   "metadata": {},
   "source": [
    "### Example 1:\n",
    "**Input**: \"PPALLP\"\n",
    "\n",
    "**Output**: True"
   ]
  },
  {
   "cell_type": "markdown",
   "metadata": {},
   "source": [
    "### Example 2:\n",
    "**Input**: \"PPALLL\"\n",
    "\n",
    "**Output**: False"
   ]
  },
  {
   "cell_type": "code",
   "execution_count": 3,
   "metadata": {},
   "outputs": [],
   "source": [
    "def checkRecord(s):\n",
    "#         \"\"\"\n",
    "#         :type s: str\n",
    "#         :rtype: bool\n",
    "#         \"\"\"\n",
    "\n",
    "####Write your function below#####\n",
    "    return not (s.count('A') > 1 or 'LLL' in s)"
   ]
  },
  {
   "cell_type": "code",
   "execution_count": 4,
   "metadata": {
    "scrolled": true
   },
   "outputs": [
    {
     "data": {
      "text/plain": [
       "True"
      ]
     },
     "execution_count": 4,
     "metadata": {},
     "output_type": "execute_result"
    }
   ],
   "source": [
    "#call the function\n",
    "checkRecord(\"LPALP\")"
   ]
  },
  {
   "cell_type": "markdown",
   "metadata": {},
   "source": [
    "----\n",
    "## Tuples"
   ]
  },
  {
   "cell_type": "markdown",
   "metadata": {},
   "source": [
    "* an ordered sequence of elements, **can mix element types**!\n",
    "* Cannot change element values, **immutable (you cannot modify it)**!\n",
    "* represented with parentheses ()"
   ]
  },
  {
   "cell_type": "code",
   "execution_count": 5,
   "metadata": {},
   "outputs": [
    {
     "data": {
      "text/plain": [
       "(6, 'Jodie', 10, 'Hi', 5, 'Hello')"
      ]
     },
     "execution_count": 5,
     "metadata": {},
     "output_type": "execute_result"
    }
   ],
   "source": [
    "#empty tuple\n",
    "tp=() # Length is 0\n",
    "\n",
    "#Tuple example\n",
    "t=(6,\"Jodie\",10,\"Hi\")\n",
    "t\n",
    "\n",
    "t+(5,\"Hello\")"
   ]
  },
  {
   "cell_type": "markdown",
   "metadata": {},
   "source": [
    "### Tuple - slicing"
   ]
  },
  {
   "cell_type": "code",
   "execution_count": 6,
   "metadata": {},
   "outputs": [
    {
     "data": {
      "text/plain": [
       "(6,)"
      ]
     },
     "execution_count": 6,
     "metadata": {},
     "output_type": "execute_result"
    }
   ],
   "source": [
    "t[0:2]\n",
    "t[0:1] #extra comma means tuple with only 1 element"
   ]
  },
  {
   "cell_type": "markdown",
   "metadata": {},
   "source": [
    "### Tuple - get length"
   ]
  },
  {
   "cell_type": "code",
   "execution_count": null,
   "metadata": {},
   "outputs": [],
   "source": [
    "len(t) #(6,\"Jodie\",10,\"Hi\")"
   ]
  },
  {
   "cell_type": "markdown",
   "metadata": {},
   "source": [
    "### Tuple - immutable"
   ]
  },
  {
   "cell_type": "code",
   "execution_count": null,
   "metadata": {
    "scrolled": true
   },
   "outputs": [],
   "source": [
    "t[0]=2 #would raise an error!"
   ]
  },
  {
   "cell_type": "markdown",
   "metadata": {},
   "source": [
    "### Why we need the Tuple data type??\n",
    "Becasue:\n",
    "1. conveniently used to swap variable values\n",
    "2. used to return more than one value from a function"
   ]
  },
  {
   "cell_type": "markdown",
   "metadata": {},
   "source": [
    "Example: swap values"
   ]
  },
  {
   "cell_type": "code",
   "execution_count": 10,
   "metadata": {},
   "outputs": [
    {
     "name": "stdout",
     "output_type": "stream",
     "text": [
      "x is 5\n",
      "y is 8\n"
     ]
    }
   ],
   "source": [
    "x, y = 5, 8\n",
    "print(\"x is\",x)\n",
    "print(\"y is\",y)"
   ]
  },
  {
   "cell_type": "code",
   "execution_count": 12,
   "metadata": {},
   "outputs": [
    {
     "name": "stdout",
     "output_type": "stream",
     "text": [
      "x is 8\n",
      "y is 5\n"
     ]
    }
   ],
   "source": [
    "#Method 1:\n",
    "x, y ,z= 5, 8,1\n",
    "\n",
    "(x,y)=(y,x)\n",
    "\n",
    "print(\"x is\",x)\n",
    "print(\"y is\",y)"
   ]
  },
  {
   "cell_type": "code",
   "execution_count": null,
   "metadata": {},
   "outputs": [],
   "source": [
    "#Method 2: by using a temp variable \n",
    "x, y = 5, 8\n",
    "\n",
    "temp=x\n",
    "x=y\n",
    "y=temp\n",
    "print(\"x is\",x)\n",
    "print(\"y is\",y)"
   ]
  },
  {
   "cell_type": "markdown",
   "metadata": {},
   "source": [
    "Example: return more than one value"
   ]
  },
  {
   "cell_type": "code",
   "execution_count": 7,
   "metadata": {},
   "outputs": [],
   "source": [
    "def quotient_and_remainder(x, y):\n",
    "    q = x // y\n",
    "    r = x % y\n",
    "    return (q,r)"
   ]
  },
  {
   "cell_type": "code",
   "execution_count": 9,
   "metadata": {
    "scrolled": true
   },
   "outputs": [
    {
     "name": "stdout",
     "output_type": "stream",
     "text": [
      "4 3\n"
     ]
    }
   ],
   "source": [
    "(quot, rem) = quotient_and_remainder(10,3)\n",
    "\n",
    "quot+=1\n",
    "rem+=2\n",
    "\n",
    "print(quot,rem)"
   ]
  },
  {
   "cell_type": "markdown",
   "metadata": {},
   "source": [
    "----\n",
    "## Lists\n",
    "* ordered sequence of information, accessible by index\n",
    "* a list is denoted by square brackets, []\n",
    "* a list contains elements\n",
    "  * usually homogeneous (ie, all integers)\n",
    "  * can contain mixed types (not common)\n",
    "* list elements can be changed so a list is mutable"
   ]
  },
  {
   "cell_type": "code",
   "execution_count": 13,
   "metadata": {},
   "outputs": [
    {
     "name": "stdout",
     "output_type": "stream",
     "text": [
      "red\n",
      "green\n"
     ]
    }
   ],
   "source": [
    "#empty list\n",
    "L0=[] #length equals to 0\n",
    "\n",
    "#List Index\n",
    "colors = ['red', 'blue', 'green']\n",
    "print (colors[0])    ## red\n",
    "print (colors[2])    ## green"
   ]
  },
  {
   "cell_type": "markdown",
   "metadata": {},
   "source": [
    "<img src='../images/list_index.png' width='50%'>"
   ]
  },
  {
   "cell_type": "markdown",
   "metadata": {},
   "source": [
    "### Lists - Slicing and get length"
   ]
  },
  {
   "cell_type": "code",
   "execution_count": 14,
   "metadata": {},
   "outputs": [
    {
     "data": {
      "text/plain": [
       "7"
      ]
     },
     "execution_count": 14,
     "metadata": {},
     "output_type": "execute_result"
    }
   ],
   "source": [
    "#Common list\n",
    "L=[1,4,7,2]\n",
    "len(L)\n",
    "L[1:3]\n",
    "L[1]\n",
    "L[-1] #last element\n",
    "L[-2] #the last second element"
   ]
  },
  {
   "cell_type": "markdown",
   "metadata": {},
   "source": [
    "### Lists - mutable"
   ]
  },
  {
   "cell_type": "code",
   "execution_count": 15,
   "metadata": {},
   "outputs": [
    {
     "data": {
      "text/plain": [
       "[1, 10, 7, 2]"
      ]
     },
     "execution_count": 15,
     "metadata": {},
     "output_type": "execute_result"
    }
   ],
   "source": [
    "L[1]=10\n",
    "L"
   ]
  },
  {
   "cell_type": "markdown",
   "metadata": {},
   "source": [
    "### Lists - homogeneous"
   ]
  },
  {
   "cell_type": "code",
   "execution_count": null,
   "metadata": {},
   "outputs": [],
   "source": [
    "#uncommon list\n",
    "L1=[2,5,[1,3,4],'a']\n",
    "\n",
    "#Regular way\n",
    "L=[1,4,2,5,7]\n",
    "total = 0\n",
    "for i in range(len(L)):\n",
    "    total += L[i]\n",
    "print total\n",
    "\n",
    "#Iterating over a list:\n",
    "total = 0\n",
    "for i in L:\n",
    "    total += i\n",
    "print total\n",
    "#we actually could iterate over list elements directly.\n",
    "#L1[2] #give another list\n",
    "#L1[5] #cannot exceed its index limit"
   ]
  },
  {
   "cell_type": "markdown",
   "metadata": {},
   "source": [
    "### Lists and Loops: we can iterate over a list\n",
    "An example to iterate over a list:\n",
    "\n",
    "Suppose we want to sum up all value in the list L=[1,4,2,5,7], how do you write this loop?"
   ]
  },
  {
   "cell_type": "code",
   "execution_count": null,
   "metadata": {},
   "outputs": [],
   "source": [
    "#Regular way\n",
    "L=[1,4,2,5,7]\n",
    "total = 0\n",
    "for i in range(len(L)):\n",
    "    total += L[i]\n",
    "print total"
   ]
  },
  {
   "cell_type": "code",
   "execution_count": 17,
   "metadata": {},
   "outputs": [
    {
     "name": "stdout",
     "output_type": "stream",
     "text": [
      "20\n"
     ]
    }
   ],
   "source": [
    "#Iterating over a list:\n",
    "total = 0\n",
    "for i in L:\n",
    "    total += i\n",
    "print (total)\n",
    "#we actually could iterate over list elements directly."
   ]
  },
  {
   "cell_type": "markdown",
   "metadata": {},
   "source": [
    "> **Notice**\n",
    "* list elements are indexed 0 to len(L)-1\n",
    "* range(n) goes from 0 to n-1, but len=n-1+1=n"
   ]
  },
  {
   "cell_type": "markdown",
   "metadata": {},
   "source": [
    "### Lists - append"
   ]
  },
  {
   "cell_type": "markdown",
   "metadata": {},
   "source": [
    "* add elements to end of list with L.append(element)\n",
    "* mutates the list!"
   ]
  },
  {
   "cell_type": "code",
   "execution_count": 18,
   "metadata": {},
   "outputs": [
    {
     "data": {
      "text/plain": [
       "[1, 4, 2, 5, 7, 10]"
      ]
     },
     "execution_count": 18,
     "metadata": {},
     "output_type": "execute_result"
    }
   ],
   "source": [
    "L=[1,4,2,5,7]\n",
    "L.append(10)\n",
    "L"
   ]
  },
  {
   "cell_type": "markdown",
   "metadata": {},
   "source": [
    "**what is the dot?** e.g. L.append(10)\n",
    "* lists are Python objects, everything in Python is an object\n",
    "* objects have methods and functions\n",
    "* access this information by object_name.do_something()"
   ]
  },
  {
   "cell_type": "markdown",
   "metadata": {},
   "source": [
    "### Lists - concatenate\n",
    "\n",
    "To combine lists together use concatenation, + operator, to give you a new list"
   ]
  },
  {
   "cell_type": "code",
   "execution_count": null,
   "metadata": {},
   "outputs": [],
   "source": [
    "L1=[1,3,5]\n",
    "L2=[2,4]\n",
    "L3=L1+L2\n",
    "L3"
   ]
  },
  {
   "cell_type": "markdown",
   "metadata": {},
   "source": [
    "###  Lists - extend\n",
    "\n",
    "mutate list with L.extend(some_list)"
   ]
  },
  {
   "cell_type": "code",
   "execution_count": null,
   "metadata": {},
   "outputs": [],
   "source": [
    "L1=[1,3,5]\n",
    "L1.extend([9,11]) #mutate L1 from [1,3,5] to [1,3,5,9,11]\n",
    "L1"
   ]
  },
  {
   "cell_type": "markdown",
   "metadata": {},
   "source": [
    "### Lists - remove\n",
    "\n",
    "1. delete element at a specific index with **del(L[index])**\n",
    "2. remove element at end of list with **L.pop()**, returns the **removed element**\n",
    "3. remove a specific element with **L.remove(element)**\n",
    " * looks for the element and removes it\n",
    " * if element occurs multiple times, removes first occurrence\n",
    " * if element not in list, gives an error"
   ]
  },
  {
   "cell_type": "code",
   "execution_count": 19,
   "metadata": {},
   "outputs": [
    {
     "data": {
      "text/plain": [
       "[1, 5, 7, 9, 11]"
      ]
     },
     "execution_count": 19,
     "metadata": {},
     "output_type": "execute_result"
    }
   ],
   "source": [
    "L=[1,3,5,7,9,11]\n",
    "del(L[1])\n",
    "L"
   ]
  },
  {
   "cell_type": "code",
   "execution_count": 21,
   "metadata": {},
   "outputs": [
    {
     "data": {
      "text/plain": [
       "[1, 3, 5, 7, 9]"
      ]
     },
     "execution_count": 21,
     "metadata": {},
     "output_type": "execute_result"
    }
   ],
   "source": [
    "L=[1,3,5,7,9,11]\n",
    "L.pop()\n",
    "L"
   ]
  },
  {
   "cell_type": "code",
   "execution_count": 24,
   "metadata": {},
   "outputs": [
    {
     "ename": "ValueError",
     "evalue": "list.remove(x): x not in list",
     "output_type": "error",
     "traceback": [
      "\u001b[0;31m---------------------------------------------------------------------------\u001b[0m",
      "\u001b[0;31mValueError\u001b[0m                                Traceback (most recent call last)",
      "\u001b[0;32m<ipython-input-24-c9427b84fe9e>\u001b[0m in \u001b[0;36m<module>\u001b[0;34m()\u001b[0m\n\u001b[1;32m      1\u001b[0m \u001b[0mL\u001b[0m\u001b[0;34m=\u001b[0m\u001b[0;34m[\u001b[0m\u001b[0;36m1\u001b[0m\u001b[0;34m,\u001b[0m\u001b[0;36m3\u001b[0m\u001b[0;34m,\u001b[0m\u001b[0;36m5\u001b[0m\u001b[0;34m,\u001b[0m\u001b[0;36m7\u001b[0m\u001b[0;34m,\u001b[0m\u001b[0;36m7\u001b[0m\u001b[0;34m,\u001b[0m\u001b[0;36m7\u001b[0m\u001b[0;34m,\u001b[0m\u001b[0;36m9\u001b[0m\u001b[0;34m]\u001b[0m\u001b[0;34m\u001b[0m\u001b[0m\n\u001b[0;32m----> 2\u001b[0;31m \u001b[0mL\u001b[0m\u001b[0;34m.\u001b[0m\u001b[0mremove\u001b[0m\u001b[0;34m(\u001b[0m\u001b[0;34m[\u001b[0m\u001b[0;36m7\u001b[0m\u001b[0;34m,\u001b[0m\u001b[0;36m9\u001b[0m\u001b[0;34m]\u001b[0m\u001b[0;34m)\u001b[0m\u001b[0;34m\u001b[0m\u001b[0m\n\u001b[0m\u001b[1;32m      3\u001b[0m \u001b[0mL\u001b[0m\u001b[0;34m\u001b[0m\u001b[0m\n",
      "\u001b[0;31mValueError\u001b[0m: list.remove(x): x not in list"
     ]
    }
   ],
   "source": [
    "L=[1,3,5,7,7,7,9]\n",
    "\n",
    "ele=[7,9]\n",
    "for x in ele:\n",
    "    L.remove(x)\n",
    "L"
   ]
  },
  {
   "cell_type": "markdown",
   "metadata": {},
   "source": [
    "### Lists - sort\n",
    "\n",
    "1. sort() and sorted()\n",
    "2. reverse()\n",
    "3. check more: [List Operations](https://docs.python.org/2/tutorial/datastructures.html)"
   ]
  },
  {
   "cell_type": "code",
   "execution_count": 26,
   "metadata": {
    "scrolled": true
   },
   "outputs": [
    {
     "data": {
      "text/plain": [
       "[8, 5, 2, 1]"
      ]
     },
     "execution_count": 26,
     "metadata": {},
     "output_type": "execute_result"
    }
   ],
   "source": [
    "L=[8,1,5,2]\n",
    "sorted(L) #returns sorted list, does not mutate L\n",
    "\n",
    "sorted(L,reverse=True) "
   ]
  },
  {
   "cell_type": "code",
   "execution_count": 27,
   "metadata": {},
   "outputs": [
    {
     "data": {
      "text/plain": [
       "[8, 5, 2, 1]"
      ]
     },
     "execution_count": 27,
     "metadata": {},
     "output_type": "execute_result"
    }
   ],
   "source": [
    "L.sort()\n",
    "\n",
    "L.sort(reverse=True) \n",
    "L"
   ]
  },
  {
   "cell_type": "markdown",
   "metadata": {},
   "source": [
    "> Tips: \n",
    "1. Use L[:] to clone a list\n",
    "2. Use L[-int] to get the last ith element"
   ]
  },
  {
   "cell_type": "code",
   "execution_count": null,
   "metadata": {},
   "outputs": [],
   "source": [
    "L=[2,5,1]\n",
    "L_copy=L[:]\n",
    "L_copy"
   ]
  },
  {
   "cell_type": "markdown",
   "metadata": {},
   "source": [
    "### List Comprehensions\n",
    "\n",
    "List comprehensions provide a concise way to create lists. It consists of brackets containing an expression followed by a for clause, then zero or more for or if clauses. \n",
    "\n",
    "The result will be a new list resulting from evaluating the expression in the context of the for and if clauses which follow it. \n",
    "\n",
    "#### Example 1: assume we want to create a list of squares, like:"
   ]
  },
  {
   "cell_type": "code",
   "execution_count": 28,
   "metadata": {},
   "outputs": [
    {
     "data": {
      "text/plain": [
       "[0, 1, 4, 9, 16, 25, 36, 49, 64, 81]"
      ]
     },
     "execution_count": 28,
     "metadata": {},
     "output_type": "execute_result"
    }
   ],
   "source": [
    "#Example 1\n",
    "squares = []\n",
    "\n",
    "for x in range(10):\n",
    "    squares.append(x**2)\n",
    "\n",
    "squares"
   ]
  },
  {
   "cell_type": "markdown",
   "metadata": {},
   "source": [
    "We can obtain the same result with List Comprehensions:"
   ]
  },
  {
   "cell_type": "code",
   "execution_count": 29,
   "metadata": {},
   "outputs": [
    {
     "data": {
      "text/plain": [
       "[0, 1, 4, 9, 16, 25, 36, 49, 64, 81]"
      ]
     },
     "execution_count": 29,
     "metadata": {},
     "output_type": "execute_result"
    }
   ],
   "source": [
    "#Example 1: continue\n",
    "squares = [x**2 for x in range(10)]\n",
    "squares"
   ]
  },
  {
   "cell_type": "markdown",
   "metadata": {},
   "source": [
    "#### Example 2: create tuples with List Comprehensions"
   ]
  },
  {
   "cell_type": "code",
   "execution_count": 31,
   "metadata": {},
   "outputs": [
    {
     "data": {
      "text/plain": [
       "[(1, 3), (1, 4), (2, 3), (2, 1), (2, 4), (3, 1), (3, 4)]"
      ]
     },
     "execution_count": 31,
     "metadata": {},
     "output_type": "execute_result"
    }
   ],
   "source": [
    "#Example 2\n",
    "[(x, y) for x in [1,2,3] for y in [3,1,4] if x != y]"
   ]
  },
  {
   "cell_type": "markdown",
   "metadata": {},
   "source": [
    "and its equivalent to:"
   ]
  },
  {
   "cell_type": "code",
   "execution_count": null,
   "metadata": {},
   "outputs": [],
   "source": [
    "#Example 2: continue\n",
    "combs = []\n",
    "\n",
    "for x in [1,2,3]:\n",
    "    for y in [3,1,4]:\n",
    "        if x != y:\n",
    "            combs.append((x, y))\n",
    "combs"
   ]
  },
  {
   "cell_type": "markdown",
   "metadata": {},
   "source": [
    "#### Example 3: create tuples (number, square) with List Comprehensions"
   ]
  },
  {
   "cell_type": "code",
   "execution_count": null,
   "metadata": {},
   "outputs": [],
   "source": [
    "#e.g.[(0, 0), (1, 1), (2, 4), (3, 9), (4, 16)]\n",
    "\n",
    "[(x, x**2) for x in range(6)] # the tuple must be parenthesized, otherwise an error is raised"
   ]
  },
  {
   "cell_type": "markdown",
   "metadata": {},
   "source": [
    "#### Example 4: flatten a list using two 'for'"
   ]
  },
  {
   "cell_type": "code",
   "execution_count": 33,
   "metadata": {
    "scrolled": true
   },
   "outputs": [
    {
     "data": {
      "text/plain": [
       "[1, 2, 3, 4, 5, 6, 7, 8, 9]"
      ]
     },
     "execution_count": 33,
     "metadata": {},
     "output_type": "execute_result"
    }
   ],
   "source": [
    "L=[[[4,7],2],[3,4,5],[6,7,8,9]]\n",
    "[x for ele in L for y in ele for x in y]"
   ]
  },
  {
   "cell_type": "markdown",
   "metadata": {},
   "source": [
    "----------\n",
    "## Exercise: List Comprehensions"
   ]
  },
  {
   "cell_type": "markdown",
   "metadata": {},
   "source": [
    "### Problem 1: \n",
    "\n",
    "Suppose we have a list L=[-2,0,3,-1,4]. Please create a new list with the values doubled."
   ]
  },
  {
   "cell_type": "code",
   "execution_count": null,
   "metadata": {},
   "outputs": [],
   "source": [
    "L=[-2,0,3,-1,4]\n",
    "## insert in code here##\n",
    "\n",
    "[x*2 for x in L]"
   ]
  },
  {
   "cell_type": "markdown",
   "metadata": {},
   "source": [
    "### Problem 2: \n",
    "\n",
    "Suppose we have a list L=[-2,0,3,-1,4]. Please filter the list to exclude negative numbers."
   ]
  },
  {
   "cell_type": "code",
   "execution_count": 35,
   "metadata": {},
   "outputs": [
    {
     "data": {
      "text/plain": [
       "[-2, 0, 3, -1, 4, -2, 0, 3, -1, 4]"
      ]
     },
     "execution_count": 35,
     "metadata": {},
     "output_type": "execute_result"
    }
   ],
   "source": [
    "L=[-2,0,3,-1,4]\n",
    "\n",
    "## insert in code here##\n",
    "\n",
    "[x for x in L if x>=0]\n"
   ]
  },
  {
   "cell_type": "markdown",
   "metadata": {},
   "source": [
    "### Problem 3: \n",
    "\n",
    "Suppose we have a list L=[-2,0,3,-1,4]. Please get absolute values of all elements."
   ]
  },
  {
   "cell_type": "code",
   "execution_count": null,
   "metadata": {
    "scrolled": true
   },
   "outputs": [],
   "source": [
    "L=[-2,0,3,-1,4]\n",
    "## insert in code here##\n",
    "\n",
    "[abs(x) for x in L]"
   ]
  },
  {
   "cell_type": "markdown",
   "metadata": {},
   "source": [
    "### list comprehensions - Continue\n",
    "\n",
    "With list comprehensions, we could quickly create a m\\*n matrix in Python.\n",
    "\n",
    "Example 1: create the 3*5 all-ones matrix"
   ]
  },
  {
   "cell_type": "code",
   "execution_count": 38,
   "metadata": {},
   "outputs": [
    {
     "data": {
      "text/plain": [
       "[[1, 1, 1, 1, 1], [1, 1, 1, 1, 1], [1, 1, 1, 1, 1]]"
      ]
     },
     "execution_count": 38,
     "metadata": {},
     "output_type": "execute_result"
    }
   ],
   "source": [
    "Matrix = [[1 for x in range(5)] for y in range(3)] \n",
    "Matrix\n",
    "\n",
    "# Matrix[1][2]=3\n",
    "# Matrix"
   ]
  },
  {
   "cell_type": "markdown",
   "metadata": {},
   "source": [
    "another concise way to create the 3*5 all-ones matrix"
   ]
  },
  {
   "cell_type": "code",
   "execution_count": 39,
   "metadata": {
    "scrolled": true
   },
   "outputs": [
    {
     "data": {
      "text/plain": [
       "[[1, 1, 1, 1, 1], [1, 1, 1, 1, 1], [1, 1, 1, 1, 1]]"
      ]
     },
     "execution_count": 39,
     "metadata": {},
     "output_type": "execute_result"
    }
   ],
   "source": [
    "Matrix = [[1]*5 for _ in range(3)] \n",
    "Matrix"
   ]
  },
  {
   "cell_type": "markdown",
   "metadata": {},
   "source": [
    "> The underscore \"_\" here ignoring the specific values. (so-called “I don’t care”)"
   ]
  },
  {
   "cell_type": "markdown",
   "metadata": {},
   "source": [
    "----\n"
   ]
  },
  {
   "cell_type": "markdown",
   "metadata": {},
   "source": [
    "## Dictionaries (Maps)\n",
    "\n",
    "It is best to think of a dictionary as an unordered set of key: value pairs, with the requirement that the keys are unique (within one dictionary).\n",
    "\n",
    "* Another **mutable** date type.\n",
    "* Nice to use one data structure (no separate lists) and index item of interest directly.\n",
    "\n",
    "<img src='../images/dictionary.png' width='60%'>"
   ]
  },
  {
   "cell_type": "markdown",
   "metadata": {},
   "source": [
    "#### Example 1: create above information (food name and its value)\n",
    "##### Solution1 : list\n",
    "If we use lists to store above information. We need to....\n",
    "\n",
    "* a\tseparate list for each item\t\n",
    "* each list\tmust have the same length\t\n",
    "* info stored across lists at same index, each index refers\tto info\tfor\ta different\titem.\t"
   ]
  },
  {
   "cell_type": "code",
   "execution_count": 1,
   "metadata": {},
   "outputs": [
    {
     "data": {
      "text/plain": [
       "('Butter', 2.59)"
      ]
     },
     "execution_count": 1,
     "metadata": {},
     "output_type": "execute_result"
    }
   ],
   "source": [
    "#list 1\n",
    "item_list=[\"Eggs\",\"Milk\",\"Cheese\",\"Yogurt\",\"Butter\",\"More Cheese\"]\n",
    "#list 2\n",
    "value_list=[2.59,3.19,4.80,1.35,2.59,6.19]\n",
    "\n",
    "def get_value(name,item_list, value_list):\n",
    "    i = item_list.index(name)\n",
    "    value = value_list[i]\n",
    "    return (name, value)\n",
    "\n",
    "get_value(\"Butter\",item_list,value_list)"
   ]
  },
  {
   "cell_type": "markdown",
   "metadata": {},
   "source": [
    "###### Solution 2: dictionary"
   ]
  },
  {
   "cell_type": "code",
   "execution_count": null,
   "metadata": {},
   "outputs": [],
   "source": [
    "value = {\"Eggs\":2.59,\"Milk\":3.19,\"Cheese\":4.80,\"Yogurt\":1.35,\"Butter\":2.59,\"More Cheese\":6.19} \n",
    "#Braces {} represent dictionaries; Brackets [] are for lists; Parentheses () are for tuples.\n",
    "\n",
    "value[\"Butter\"]"
   ]
  },
  {
   "cell_type": "markdown",
   "metadata": {},
   "source": [
    "### Dictionaries -add entries"
   ]
  },
  {
   "cell_type": "code",
   "execution_count": null,
   "metadata": {
    "scrolled": false
   },
   "outputs": [],
   "source": [
    "#add an entry\n",
    "value['Apple'] = 3.99\n",
    "value"
   ]
  },
  {
   "cell_type": "markdown",
   "metadata": {},
   "source": [
    "### Dictionaries -test key"
   ]
  },
  {
   "cell_type": "code",
   "execution_count": null,
   "metadata": {},
   "outputs": [],
   "source": [
    "#test if key in dicSonary\n",
    "\n",
    "\"Orange\" in value\n",
    "\"Milk\" in value"
   ]
  },
  {
   "cell_type": "markdown",
   "metadata": {},
   "source": [
    "### Dictionaries -delete entries"
   ]
  },
  {
   "cell_type": "code",
   "execution_count": null,
   "metadata": {},
   "outputs": [],
   "source": [
    "#delete entry\n",
    "del(value['Apple'])\n",
    "value"
   ]
  },
  {
   "cell_type": "markdown",
   "metadata": {},
   "source": [
    "### Dictionaries -get all keys"
   ]
  },
  {
   "cell_type": "code",
   "execution_count": null,
   "metadata": {},
   "outputs": [],
   "source": [
    "#get all keys (but order not promised)\n",
    "value.keys()"
   ]
  },
  {
   "cell_type": "markdown",
   "metadata": {},
   "source": [
    "### Dictionaries -add all values"
   ]
  },
  {
   "cell_type": "code",
   "execution_count": null,
   "metadata": {},
   "outputs": [],
   "source": [
    "#get all values (but order not promised)\n",
    "value.values()"
   ]
  },
  {
   "cell_type": "markdown",
   "metadata": {},
   "source": [
    "> Keys and Values in Dictionaries (But orders are not promised!):\n",
    "1. Keys:\n",
    " * must be unique\n",
    " * immutable (number, string, tuple, bool)\n",
    "2. Values:\n",
    " * mutable\n",
    " * can be duplicates\t\n",
    " * can be number, string, lists, even other\tdictionaries!\n"
   ]
  },
  {
   "cell_type": "markdown",
   "metadata": {},
   "source": [
    "Example for acceptable dictionary"
   ]
  },
  {
   "cell_type": "code",
   "execution_count": null,
   "metadata": {
    "scrolled": true
   },
   "outputs": [],
   "source": [
    "d = {4:{1:0}, (1,3):\"twelve\", 'const':[3.14,2.7,8.44]}\n"
   ]
  },
  {
   "cell_type": "code",
   "execution_count": null,
   "metadata": {},
   "outputs": [],
   "source": [
    "type(d)"
   ]
  },
  {
   "cell_type": "markdown",
   "metadata": {},
   "source": [
    "## Assignment: counting frequencies of words in song lyrics\n",
    "\n",
    "<img src='../images/des.jpg' width='50%'>"
   ]
  },
  {
   "cell_type": "code",
   "execution_count": null,
   "metadata": {},
   "outputs": [],
   "source": [
    "despacito=[\"Ya\", \"ya\" ,\"me\",\"esta\",\"gustando\",\"mas\",\"de\",\"lo\", \"normal\", \n",
    "\"Todos\", \"mis\", \"sentidos\", \"van\", \"pidiendo\" ,\"mas\", \n",
    "\"Esto\", \"hay\", \"que\", \"tomarlo\",\"sin\", \"ningun\", \"apuro\",\"despacito\", \"Quiero\",\"respirar\",\"tu\",\"cuello\",\n",
    "\"despacito\", \"deja\",\"que\",\"te\",\"diga\",\"cosas\",\"al\",\"oido\",\n",
    "\"Para\",\"que\", \"te\", \"acuerdes\",\"si\",\"no\",\"estas\",\"conmigo\"]"
   ]
  },
  {
   "cell_type": "code",
   "execution_count": null,
   "metadata": {},
   "outputs": [],
   "source": [
    "def lyrics_to_frequencies(lyrics):\n",
    "#      \"\"\" \n",
    "#     Input: lyrics, a list\n",
    "#     Returns myDict, a dictionary, with word and its count\n",
    "#      \"\"\" \n",
    "##Please insert your code here ##        \n",
    "    myDict = {}\n",
    "    for word in lyrics:\n",
    "        if word in myDict:\n",
    "            myDict[word] += 1\n",
    "        else:\n",
    "            myDict[word] = 1\n",
    "    return myDict\n",
    "    "
   ]
  },
  {
   "cell_type": "code",
   "execution_count": null,
   "metadata": {
    "scrolled": true
   },
   "outputs": [],
   "source": [
    "# Call the function\n",
    "DY=lyrics_to_frequencies(despacito)\n",
    "DY"
   ]
  },
  {
   "cell_type": "code",
   "execution_count": null,
   "metadata": {},
   "outputs": [],
   "source": []
  }
 ],
 "metadata": {
  "kernelspec": {
   "display_name": "Python 3",
   "language": "python",
   "name": "python3"
  },
  "language_info": {
   "codemirror_mode": {
    "name": "ipython",
    "version": 3
   },
   "file_extension": ".py",
   "mimetype": "text/x-python",
   "name": "python",
   "nbconvert_exporter": "python",
   "pygments_lexer": "ipython3",
   "version": "3.6.2"
  }
 },
 "nbformat": 4,
 "nbformat_minor": 2
}
